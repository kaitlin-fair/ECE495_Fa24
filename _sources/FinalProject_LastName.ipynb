{
 "cells": [
  {
   "cell_type": "markdown",
   "metadata": {},
   "source": [
    "## Final Project: Template\n",
    "\n",
    "**This is a single, running document that will be used for _all_ Jupyter Notebook submissions.**  \n",
    "\n",
    "Think of it as a somewhat formal journal for your project. Instead of a final paper, you will be documenting your methodology and observations as you go using markdown. You can find some tips and tricks for [markdown here](https://medium.com/analytics-vidhya/the-ultimate-markdown-guide-for-jupyter-notebook-d5e5abf728fd) and/or use ECE495 tutorials and lab markdown as examples.\n",
    "\n",
    "**Important: Please be sure to reference your [Final Project Information Document](_static/FinalProject_LastName.ipynb) to ensure you meet all specs for each submission.**\n",
    "\n",
    "_Delete this section and make this notebook your own._\n",
    "\n",
    "___\n"
   ]
  },
  {
   "cell_type": "markdown",
   "metadata": {},
   "source": [
    "#### Plans for Jupyter Notebook Checkpoint 1\n",
    "\n",
    "List an overview of your work plan for this checkpoint\n",
    "- Feel free to make it a bulleted list\n",
    "- Then get to work!"
   ]
  },
  {
   "cell_type": "code",
   "execution_count": 1,
   "metadata": {},
   "outputs": [],
   "source": [
    "# Put all of your code here."
   ]
  },
  {
   "cell_type": "markdown",
   "metadata": {},
   "source": [
    "Break your code up into as many sections as you need to and \"narrate\" what you are doing using markdown. Be sure to provide detailed methodology, to include any assumptions that are required to get certain things to work (example: not implementing real-time learning of delays for path planning).  \n",
    "\n",
    "If you want to know what I mean by detailed, mimic the markdown for your tutorials! You will be the expert on this and will need to give me as much detail as possible (in a concise manner) to help me understand what's going on."
   ]
  },
  {
   "cell_type": "code",
   "execution_count": null,
   "metadata": {},
   "outputs": [],
   "source": [
    "# more code"
   ]
  },
  {
   "cell_type": "markdown",
   "metadata": {},
   "source": [
    "#### Technical Challenges\n",
    "\n",
    "You can have a section here or you can list these throughout your markdown as you work through your methodology. If it makes sense to do so, you can combine this with your work plan adjustments. Just make sure it's clear that you have documented any issues you've run into and how you have resolved them."
   ]
  },
  {
   "cell_type": "markdown",
   "metadata": {},
   "source": [
    "#### Work Plan Adjustments\n",
    "\n",
    "Discuss any work plans that changed as you worked through this checkpoint and *why* the changes are justified. You ran out of time or it was too hard are not acceptable reasons.\n",
    "\n",
    "These changes may be things that changed as you worked through Checkpoint 1, or it could be that as a result of your findings from Checkpoint 1, you'll need to make adjustments to Checkpoint 2, or both. Just make sure it's clear.\n",
    "\n",
    "___\n"
   ]
  },
  {
   "cell_type": "markdown",
   "metadata": {},
   "source": [
    "#### Plans for Jupyter Notebook Checkpoint 2"
   ]
  },
  {
   "cell_type": "code",
   "execution_count": null,
   "metadata": {},
   "outputs": [],
   "source": [
    "# CODE"
   ]
  },
  {
   "cell_type": "markdown",
   "metadata": {},
   "source": [
    "#### Technical Challenges"
   ]
  },
  {
   "cell_type": "markdown",
   "metadata": {},
   "source": [
    "#### Work Plan Adjustments\n",
    "\n",
    "___\n"
   ]
  },
  {
   "cell_type": "markdown",
   "metadata": {},
   "source": [
    "#### Plans for Jupyter Notebook Final Checkpoint"
   ]
  },
  {
   "cell_type": "code",
   "execution_count": null,
   "metadata": {},
   "outputs": [],
   "source": [
    "# CODE"
   ]
  },
  {
   "cell_type": "markdown",
   "metadata": {},
   "source": [
    "#### Technical Challenges"
   ]
  },
  {
   "cell_type": "markdown",
   "metadata": {},
   "source": [
    "#### Work Plan Adjustments\n",
    "\n"
   ]
  },
  {
   "cell_type": "markdown",
   "metadata": {},
   "source": [
    "#### Results"
   ]
  },
  {
   "cell_type": "code",
   "execution_count": null,
   "metadata": {},
   "outputs": [],
   "source": [
    "# CODE"
   ]
  },
  {
   "cell_type": "markdown",
   "metadata": {},
   "source": [
    "#### Analysis"
   ]
  },
  {
   "cell_type": "markdown",
   "metadata": {},
   "source": [
    "#### Path Forward"
   ]
  }
 ],
 "metadata": {
  "kernelspec": {
   "display_name": ".venv",
   "language": "python",
   "name": "python3"
  },
  "language_info": {
   "codemirror_mode": {
    "name": "ipython",
    "version": 3
   },
   "file_extension": ".py",
   "mimetype": "text/x-python",
   "name": "python",
   "nbconvert_exporter": "python",
   "pygments_lexer": "ipython3",
   "version": "3.10.11"
  }
 },
 "nbformat": 4,
 "nbformat_minor": 2
}
