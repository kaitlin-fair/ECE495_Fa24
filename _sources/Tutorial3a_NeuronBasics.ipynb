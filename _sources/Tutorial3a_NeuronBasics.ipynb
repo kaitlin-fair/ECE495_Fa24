{
 "cells": [
  {
   "cell_type": "markdown",
   "metadata": {},
   "source": [
    "# Nengo Neurons: Representation\n",
    "\n",
    "In this demonstration we will:\n",
    "\n",
    "1. Represent a constant input value with a single neuron using Nengo\n",
    "2. Understand output plots from Nengo (raster plots, decoded neural responses, tuning curves, and more)\n",
    "3. Tune parameters to understand how to better represent different inputs values using one neuron\n",
    "4. Repeat 1-3 with 10 neurons\n",
    "5. Repeat for various time-varying input signals."
   ]
  },
  {
   "cell_type": "markdown",
   "metadata": {},
   "source": [
    "#### Set up\n",
    "\n",
    "**Ensure you are using your [495 Virtual Environment](https://kaitlin-fair.github.io/ECE495_Fa24/venv_setup.html) before you begin!**  \n",
    "    \n",
    "Import Nengo and other supporting libraries into your program to get started:"
   ]
  },
  {
   "cell_type": "code",
   "execution_count": null,
   "metadata": {},
   "outputs": [],
   "source": [
    "import numpy as np\n",
    "import matplotlib.pyplot as plt\n",
    "\n",
    "import nengo\n",
    "from nengo.dists import Uniform\n",
    "from nengo.processes import WhiteSignal\n",
    "from nengo.utils.ensemble import tuning_curves\n",
    "from nengo.utils.ipython import hide_input\n",
    "from nengo.utils.matplotlib import rasterplot\n",
    "from scipy.stats import norm"
   ]
  },
  {
   "cell_type": "markdown",
   "metadata": {},
   "source": [
    "#### Represent (i.e. Encode) Input Data using One Neuron\n",
    "\n",
    "To do anything with data in Nengo, we must first convert the input data into spiking data using Nengo neuron ensembles. This is biologically inspired: neural populations represent time-varying signals through their spiking responses (recall the human visual system).\n",
    "\n",
    "We start with a Nengo node that provides the input to a neuron in our Nengo model - this is essentially just a way to pass data from regular Python into a Nengo model filled with neurons. The Nengo neuron then converts the data to spikes (i.e. the neuron encodes the input data). We can then check to see how well our Nengo neuron can represent our input data by decoding the spikes.\n",
    "\n",
    "Key terms:\n",
    "- Encode: convert data to spikes\n",
    "- Decode: convert spikes to numeric values (hopefully looks like our input)\n",
    "\n",
    "To understand how Nengo neurons encode inputs, we will first look at a single neuron encoding a constant value."
   ]
  },
  {
   "cell_type": "markdown",
   "metadata": {},
   "source": [
    "#### Create your input\n",
    "\n",
    "Start with a positive value between -1 and 1."
   ]
  },
  {
   "cell_type": "code",
   "execution_count": null,
   "metadata": {},
   "outputs": [],
   "source": [
    "nengo_inp = .5"
   ]
  },
  {
   "cell_type": "markdown",
   "metadata": {},
   "source": [
    "#### Create your model\n",
    "\n",
    "Every Nengo network requires a model. The model holds all of your nodes, neurons, connections, probes, and other functionality. "
   ]
  },
  {
   "cell_type": "code",
   "execution_count": null,
   "metadata": {},
   "outputs": [],
   "source": [
    "model = nengo.Network(label=\"Representation\")"
   ]
  },
  {
   "cell_type": "markdown",
   "metadata": {},
   "source": [
    "#### Add to your model\n",
    "\n",
    "You can adjust or add onto your model anytime using the same `with model:` command. "
   ]
  },
  {
   "cell_type": "code",
   "execution_count": null,
   "metadata": {},
   "outputs": [],
   "source": [
    "# Create a model to perform the sorting\n",
    "with model:\n",
    "\n",
    "    # Add input node \n",
    "    input_node = nengo.Node(nengo_inp)\n",
    "\n",
    "    # Add a single neuron to encode the input\n",
    "    input_neuron = nengo.Ensemble(n_neurons=1, dimensions=1,\n",
    "        # Set your intercept (where the neuron starts spiking)\n",
    "        # uniform = values uniformly distributed \n",
    "        # between the first and second input, one for each neuron. \n",
    "        # If you want a specific value, set both inputs to same value.\n",
    "        intercepts=Uniform(0,0),\n",
    "        # Set the maximum firing rate of the neuron (Hz)\n",
    "        max_rates=Uniform(100,100),\n",
    "        # Set the neuron's firing rate to increase for values \n",
    "        # higher than (1) or lower than  (-1) your intercept\n",
    "        # Values farther from the intercept elicit higher spike rates\n",
    "        encoders=[[1]])\n",
    "\n",
    "    # Connect the node to the encoding neuron\n",
    "    inp_conn = nengo.Connection(input_node, input_neuron)\n",
    "\n",
    "    ## Add probes to see outputs throughout the model\n",
    "    # This probe captures the non-spiking input value\n",
    "    input_probe_node = nengo.Probe(input_node)\n",
    "\n",
    "    # This probe displays the decoded neural representation of the input\n",
    "    input_probe_neuron = nengo.Probe(input_neuron, synapse=0.01)\n",
    "\n",
    "    # This probe captures the actual spikes from the neuron\n",
    "    spikes = nengo.Probe(input_neuron.neurons)\n",
    "\n",
    "    # These probes captures the neuron potential    \n",
    "    membranePotential = nengo.Probe(input_neuron.neurons, \"voltage\")"
   ]
  },
  {
   "cell_type": "markdown",
   "metadata": {},
   "source": [
    "#### Run your model\n",
    "\n",
    "Once you've built it, it's time to see what it can do."
   ]
  },
  {
   "cell_type": "code",
   "execution_count": null,
   "metadata": {},
   "outputs": [],
   "source": [
    "# Build the simulator to run the model containing just input encoding\n",
    "with nengo.Simulator(model) as sim:\n",
    "    # Run it for 1 second\n",
    "    sim.run(1)"
   ]
  },
  {
   "cell_type": "markdown",
   "metadata": {},
   "source": [
    "#### Analyze your model outputs\n",
    "\n",
    "Plot the outputs collected from Nengo probes. "
   ]
  },
  {
   "cell_type": "code",
   "execution_count": null,
   "metadata": {},
   "outputs": [],
   "source": [
    "# Plot the input signals and decoded ensemble values\n",
    "plt.figure()\n",
    "plt.plot(sim.trange(), sim.data[input_probe_neuron], label=\"Decoded Estimate of Input A\")\n",
    "# uncomment next line to see the mean value versus the actual value\n",
    "#plt.plot(sim.trange(), np.tile(np.mean(sim.data[input_probe_neuron]), len(sim.trange())), label=\"Decoded Estimate Mean\")\n",
    "plt.plot(sim.trange(), sim.data[input_probe_node], label=\"Input A\")\n",
    "plt.legend()\n",
    "plt.ylim(-1, 1)\n",
    "plt.xlabel(\"time [s]\")\n",
    "plt.title(\"Decoded Spikes = Neural Representation of Input\")\n",
    "\n",
    "print(\"Difference between input and decoded mean = \", np.mean(sim.data[input_probe_neuron]) - nengo_inp)\n",
    "\n",
    "# Plot the soma voltages of the neurons\n",
    "plt.figure()\n",
    "plt.plot(sim.trange(), sim.data[membranePotential][:, 0], \"r\")\n",
    "plt.xlim(0, 1)\n",
    "plt.xlabel(\"time [s]\")\n",
    "plt.title(\"Neuron Potential\")\n",
    "\n",
    "# Plot the spiking output of the ensemble\n",
    "plt.figure()\n",
    "rasterplot(sim.trange(), sim.data[spikes])\n",
    "plt.ylabel(\"Neuron\")\n",
    "plt.xlabel(\"time [s]\")\n",
    "plt.title(\"Encoded Input = Spiking Outputs\")\n",
    "plt.xlim(0, 1)"
   ]
  },
  {
   "cell_type": "markdown",
   "metadata": {},
   "source": [
    "We can see that this single neuron cannot perfectly represent our input value. We could fine tune parameters to a specific value to get it to perfectly represent it; however, that's not generalizable. BUT! **We will still do that to see how the parameters really affect representations (soon).**\n",
    "\n",
    "We would expect constant spikes evenly spaced as we are sending in a constant value. We would expect more spikes for larger values, fewer for smaller values.\n",
    "\n",
    "We can see that the membrane potential increases and reaches a certain value, a spike is emmitted, and the membrane potential resets.\n",
    "\n"
   ]
  },
  {
   "cell_type": "markdown",
   "metadata": {},
   "source": [
    "#### Further Analysis\n",
    "\n",
    "Input signals drive neural populations based on each neuron’s \"tuning curve\".\n",
    "\n",
    "The tuning curve describes how much a particular neuron will fire as a function of the input signal. In this case, our input signal is a constant value over 1 second. We can plot the tuning curve to better understand our outputs."
   ]
  },
  {
   "cell_type": "code",
   "execution_count": null,
   "metadata": {},
   "outputs": [],
   "source": [
    "def aligned(n_neurons, radius=0.9):\n",
    "    intercepts = np.linspace(-radius, radius, n_neurons)\n",
    "    encoders = np.tile([[1], [-1]], (n_neurons // 2, 1))\n",
    "    intercepts *= encoders[:, 0]\n",
    "    return intercepts, encoders\n",
    "\n",
    "with nengo.Simulator(model) as sim:\n",
    "    eval_points, activities = tuning_curves(input_neuron, sim)\n",
    "\n",
    "plt.figure()\n",
    "plt.plot(eval_points, activities, lw=2)\n",
    "plt.xlabel(\"Input signal\")\n",
    "plt.ylabel(\"Firing rate (Hz)\")"
   ]
  },
  {
   "cell_type": "markdown",
   "metadata": {},
   "source": [
    "This plot tells us that for a value just barely above zero, it will have a firing rate of about 20Hz. If we had a value nearing 1, the firing rate would be close to our max firing rate we set for the neuron, 100Hz. Anything less than zero will not fire at all."
   ]
  },
  {
   "cell_type": "markdown",
   "metadata": {},
   "source": [
    "### Okay, but how did we go from spikes to the neural representation of the value?\n",
    "\n",
    "For a single neuron, we must first recall what a membrane action potential looks like. For each binary spike, the biological equivalent is the membrane action potential at that time step. This means you can multiply each spike by the neuron action potential shape - dependent on tau (remember that?!) and add them up. At this point, your neuron representation should be approximately the same shape as your input (for a constant value, just a straight line). If you are using one neuron in your ensemble, this should be very similar to your input signal!\n",
    "\n",
    "We will approximate the neuron potential as a Gaussian curve (because those are easier to plot). Then center a Guassian curve around each spike and add all of those voltages together to plot our encoded input values. \n",
    "\n",
    "Quick note about how your encoder choices impact this process: when you choose a negative encoder (i.e. more spikes for a more negative value relative to your intercept), the neuron action potential is flipped upside down representing a spike that represents a negative value. Think about it this way: all we see ar spikes coming out of a neuron. How would we know that it's representing negative or positive values? The only think Nengo has to decide that is our encoder. For time varying signals, you'll see how this all works out. But for a constant value, this can become difficult. Should you choose an intercept of .5 and an encoder of -1, the neuron will spike for a value of .25, but it will decode as a negative value (-.25) instead of a postiive value due to the encoder being -1. \n",
    "\n",
    "Recall Key Terms: \n",
    "1. We encode our input using spikes\n",
    "2. _We then decode those spikes to determine how well the neuron approximates our input_\n",
    "\n",
    "Here's our Gaussian curve to approximate a neuron action potential:"
   ]
  },
  {
   "cell_type": "code",
   "execution_count": null,
   "metadata": {},
   "outputs": [],
   "source": [
    "# x-axis ranges from -3 and 3 with .001 steps\n",
    "x = np.arange(-3, 3, .001)\n",
    "\n",
    "# plot normal distribution with mean 0 and standard deviation 1\n",
    "plt.figure()\n",
    "plt.plot(x, norm.pdf(x, 0, 1))\n",
    "plt.xlabel(\"Time\")\n",
    "plt.ylabel(\"Membrane Voltage\")\n",
    "plt.title(\"Approximated Membrane Action Potential\")\n"
   ]
  },
  {
   "cell_type": "markdown",
   "metadata": {},
   "source": [
    "Now, we will find all of our spikes and multiply each by the Gaussian curve, sum them up, and get our decoded neural representation of our input value."
   ]
  },
  {
   "cell_type": "code",
   "execution_count": null,
   "metadata": {},
   "outputs": [],
   "source": [
    "# the tuning curves clear everything, so run again to get our spikes\n",
    "with nengo.Simulator(model) as sim:\n",
    "    # Run it for 1 second\n",
    "    sim.run(1)\n",
    "\n",
    "t_sim1 = sim.trange() #time step every .001s\n",
    "spikes_out = np.squeeze(sim.data[spikes]/1000) #gets rid of 2nd dimension length 1\n",
    "#time location at which each spike occurs\n",
    "spike_locs = np.unique(t_sim1*spikes_out)\n",
    "spike_locs = spike_locs[1:] #get rid of spike at t=0\n",
    "\n",
    "#funct = gauss_approx*spikes_out\n",
    "gauss_approx = np.zeros(t_sim1.shape[0])\n",
    "x = np.arange(0, 1, .001)\n",
    "for i in spike_locs:\n",
    "    temp_pdf = norm.pdf(x, i, .0035)\n",
    "    gauss_approx = np.add(gauss_approx,temp_pdf)\n",
    "\n",
    "# plot the manually decoded estimate of input A\n",
    "plt.figure()\n",
    "plt.plot(t_sim1, gauss_approx/np.max(gauss_approx))\n",
    "plt.xlabel(\"Time\")\n",
    "plt.title(\"Manually Decoded Spikes = Neural Representation of Input\")\n",
    "plt.plot(sim.trange(), sim.data[input_probe_node], label=\"Input A\")\n",
    "plt.ylim(0,1)\n",
    "\n",
    "# Plot the input signals and decoded ensemble values\n",
    "plt.figure()\n",
    "plt.plot(sim.trange(), sim.data[input_probe_neuron], label=\"Decoded Estimate of Input A\")\n",
    "plt.plot(sim.trange(), sim.data[input_probe_node], label=\"Input A\")\n",
    "plt.legend()\n",
    "plt.ylim(0, 1)\n",
    "plt.xlabel(\"time [s]\")\n",
    "plt.title(\"Decoded Spikes = Neural Representation of Input\")\n"
   ]
  },
  {
   "cell_type": "markdown",
   "metadata": {},
   "source": [
    "Voila! Now you know everything about encoding and decoding a value.\n",
    "\n",
    "**Before we move on, try hand tuning the parameters (intercept, encoder, firing rate) and see if you can get a single neuron to better represent our default input value (.5). Then try representing a different value and consider why it doesn't do as well as the first one you tuned (or maybe it does better?).\n"
   ]
  },
  {
   "cell_type": "markdown",
   "metadata": {},
   "source": [
    "## Represent (i.e. Encode) Input Data using Eight Neurons\n",
    "\n",
    "Clearly, one neuron is not the ideal way to go when representing our data - unless we know we have a very specific constant value every single time.\n",
    "\n",
    "For when that's not the case (examples: time-varying signals or when inputs will be different with each simulation), we need to use ensembles of multiple to many neurons. \n",
    "\n",
    "In this example, we will use 8 neurons to represent the function x(t)=2t-1. Nengo documentation recommends to use [Python's lambda functions](https://realpython.com/python-lambda/) when sending a time-varying input to a network."
   ]
  },
  {
   "cell_type": "code",
   "execution_count": null,
   "metadata": {},
   "outputs": [],
   "source": [
    "# Clear out data from single neuron representation\n",
    "sim.clear_probes()\n",
    "\n",
    "# Create our input using Python Lambda Functions\n",
    "# Probe that input so we can see the function over time\n",
    "with model:\n",
    "    input_node = nengo.Node(lambda t: t * 2 - 1)\n",
    "    input_probe = nengo.Probe(input_node)\n",
    "\n",
    "# Run it!\n",
    "with nengo.Simulator(model) as sim:\n",
    "    sim.run(1.0)\n",
    "\n",
    "# Plot input\n",
    "plt.figure()\n",
    "plt.plot(sim.trange(), sim.data[input_probe], lw=2)\n",
    "plt.title(\"Input signal\")\n",
    "plt.xlabel(\"Time (s)\")\n",
    "plt.xlim(0, 1)\n"
   ]
  },
  {
   "cell_type": "markdown",
   "metadata": {},
   "source": [
    "We will use 8 neurons in a nengo ensemble. Nengo has defaults to randomly assign intercepts, firing rates, and encoder values; however, in this example we will choose specific parameters to (hopefully) make it very clear how multiple neurons combine to represent a single signal.\n",
    "\n",
    "The tuning curve will assist with understanding the impact of these parameters on how the neurons will represent our input signal."
   ]
  },
  {
   "cell_type": "code",
   "execution_count": null,
   "metadata": {},
   "outputs": [],
   "source": [
    "# Makes the tuning curves perfectly spaced out\n",
    "def aligned(n_neurons, radius=0.9):\n",
    "    intercepts = np.linspace(-radius, radius, n_neurons) # even spaced from -.9 to .9\n",
    "    encoders = np.tile([[1], [-1]], (n_neurons // 2, 1)) # half care about negative, half positive\n",
    "    intercepts *= encoders[:, 0]\n",
    "    return intercepts, encoders\n",
    "\n",
    "intercepts, encoders = aligned(8)  # Makes evenly spaced intercepts\n",
    "with model:\n",
    "    input_neuron = nengo.Ensemble(\n",
    "        8,\n",
    "        dimensions=1,\n",
    "        intercepts=intercepts,\n",
    "        max_rates=Uniform(80, 100), #evenly distributed between 80 and 100Hz\n",
    "        encoders=encoders,\n",
    "    )\n",
    "\n",
    "# grab data to plot tuning curves    \n",
    "with nengo.Simulator(model) as sim:\n",
    "    eval_points, activities = tuning_curves(input_neuron, sim)\n",
    "\n",
    "plt.figure()\n",
    "plt.plot(eval_points, activities, lw=2)\n",
    "plt.xlabel(\"Input signal\")\n",
    "plt.ylabel(\"Firing rate (Hz)\")\n",
    "\n",
    "#rint(intercepts)\n",
    "#print(encoders)\n"
   ]
  },
  {
   "cell_type": "markdown",
   "metadata": {},
   "source": [
    "Now, let's connect our input to the neuron ensemble and see the encoded input signal (spiking data out of the neuron ensemble) and compare that against our tuning curves to see if the spikes make sense."
   ]
  },
  {
   "cell_type": "code",
   "execution_count": null,
   "metadata": {},
   "outputs": [],
   "source": [
    "with model:\n",
    "    inp_conn = nengo.Connection(input_node, input_neuron)\n",
    "    spikes = nengo.Probe(input_neuron.neurons)\n",
    "    spikes_filt = nengo.Probe(input_neuron.neurons, synapse=.01)\n",
    "\n",
    "with nengo.Simulator(model) as sim:\n",
    "    sim.run(1)\n",
    "\n",
    "plt.figure()\n",
    "ax = plt.subplot(1, 1, 1)\n",
    "rasterplot(sim.trange(), sim.data[spikes], ax)\n",
    "ax.set_xlim(0, 1)\n",
    "ax.set_ylabel(\"Neuron\")\n",
    "ax.set_xlabel(\"Time (s)\")\n"
   ]
  },
  {
   "cell_type": "markdown",
   "metadata": {},
   "source": [
    "These track well with our tuning curves. They start firing when the input signal crosses the threshold (intercept) and fires more when it's farther from the intercept in the direction of preference (+1 encoder for more positive, -1 encoder for more negative).\n",
    "\n",
    "We will now decode our spikes to reconstruct our input signal. Recall how we did this for one neuron: For each binary spike, the biological equivalent is the membrane action potential at that time step. This means you can multiply each spike by the neuron action potential shape. We approximated this shape as a Gaussian curve.\n",
    "\n",
    "Instead of approximating with a Gaussian curve, we rely on Nengo to multiply each spike by the actual membrane action potential (dependent on tau) and sum those values together for each neuron in the ensemble (just as we did manually for one neuron by estimating the neuron potential as a Gaussian distribution). In Nengo, this is referred to as a post-synaptic filter and we choose tau=.01s."
   ]
  },
  {
   "cell_type": "code",
   "execution_count": null,
   "metadata": {},
   "outputs": [],
   "source": [
    "scale = 180\n",
    "plt.figure()\n",
    "for i in range(input_neuron.n_neurons):\n",
    "    plt.plot(sim.trange(), sim.data[spikes_filt][:, i] - i * scale)\n",
    "plt.xlim(0, 1)\n",
    "plt.ylim(scale * (-input_neuron.n_neurons + 1), scale)\n",
    "plt.ylabel(\"Neuron\")\n",
    "plt.yticks(\n",
    "    np.arange(scale / 1.8, (-input_neuron.n_neurons + 1) * scale, -scale), np.arange(input_neuron.n_neurons)\n",
    ")"
   ]
  },
  {
   "cell_type": "markdown",
   "metadata": {},
   "source": [
    "Then, we multiply the above \"filtered spike trains\" with decoding weights and sum them together to give an estimate of the input based on the spikes. For a single neuron, we did not have a decoding weight. The decoding weights assign weights to each neuron output based on how important that is to the signal (i.e. more important = higher amplitude when added together). \n",
    "\n",
    "Nengo trains decoding weights - similar to weights of a neural network - that are used to reconstruct the input value via spiking neuron outputs. The decoding weights are determined by minimizing the squared difference between the decoded estimate and the actual input signal. Nengo does this for us.\n",
    "\n",
    "Let's get our decoding values from our model. Because weights are trained values between neuron layers, we need to get the weights from a connection. However, the outputs of our `input_neuron` are not connected to anything. In order to get the weight of each neuron to manually reconstruct (estimate) the input signal, we must create another node (recall: these just pass data) in order to get our 8 decoder weights. "
   ]
  },
  {
   "cell_type": "code",
   "execution_count": null,
   "metadata": {},
   "outputs": [],
   "source": [
    "# create and connect an output node\n",
    "with model:\n",
    "    output_node = nengo.Node(size_in=1)\n",
    "    out_conn = nengo.Connection(input_neuron, output_node)\n",
    "    \n",
    "# probe the weights from the connection between the neuron and output node (out_conn)\n",
    "with nengo.Simulator(model) as sim:\n",
    "    decoders = sim.data[out_conn].weights\n",
    "# make decoders an array of 8 values\n",
    "decoders = np.squeeze(decoders)\n",
    "\n",
    "# run it!\n",
    "with nengo.Simulator(model) as sim:\n",
    "    sim.run(1)\n",
    "\n",
    "# multiply each spike*membrane action potential plots by it's decoder, add them up\n",
    "n1 = sim.data[spikes_filt][:, 1]\n",
    "neuron8_rep = np.zeros(n1.shape[0])\n",
    "for i in range(input_neuron.n_neurons):\n",
    "    temp_out = decoders[i] * sim.data[spikes_filt][:, i]\n",
    "    neuron8_rep = np.add(neuron8_rep,temp_out)\n",
    "\n",
    "plt.figure()\n",
    "plt.plot(sim.trange(), neuron8_rep, label=\"Manually Decoded Estimate\")\n",
    "plt.plot(sim.trange(), sim.data[input_probe], label=\"Input signal\")\n",
    "plt.title(\"Input signal\")\n",
    "plt.xlabel(\"Time (s)\")\n",
    "plt.xlim(0, 1)"
   ]
  },
  {
   "cell_type": "markdown",
   "metadata": {},
   "source": [
    "Let's check how well we did by probing and filtering the output directly (i.e. letting Nengo decode the spikes for us).\n",
    "\n",
    "Note: Nengo clearly stores the decoder weights somewhere within the neuron ensemble but I haven't found a way to access them. I draw this conclusion because we can simply probe `input_neuron` without it being connected to anything and get the same reconstructed signal that we just manually decoded {insert cranky emoji}."
   ]
  },
  {
   "cell_type": "code",
   "execution_count": null,
   "metadata": {},
   "outputs": [],
   "source": [
    "with model:\n",
    "    neuron_probe = nengo.Probe(input_neuron, synapse=0.01)\n",
    "\n",
    "with nengo.Simulator(model) as sim:\n",
    "    sim.run(1)\n",
    "\n",
    "plt.figure()\n",
    "plt.plot(sim.trange(), sim.data[input_probe], label=\"Input signal\")\n",
    "plt.plot(sim.trange(), sim.data[neuron_probe], label=\"Decoded estimate\")\n",
    "plt.legend(loc=\"best\")\n",
    "plt.xlim(0, 1)"
   ]
  },
  {
   "cell_type": "markdown",
   "metadata": {},
   "source": [
    "These look about the same! Go us!\n",
    "\n",
    "Now you have a solid foundation for representing data using neurons, but there's certainly more to be learned. It would be a VERY SMART idea to take a look at the examples linked in the Discussion section."
   ]
  },
  {
   "cell_type": "markdown",
   "metadata": {},
   "source": [
    "\n",
    "### Discussion\n",
    "\n",
    "More neurons give better representations of an input signal:  \n",
    "- Check out examples for neuron(s) representing a sinusoid: [one neuron](https://www.nengo.ai/nengo/examples/basic/single-neuron.html), [two neurons](https://www.nengo.ai/nengo/v3.1.0/examples/basic/two-neurons.html), and [many neurons](https://www.nengo.ai/nengo/examples/basic/many-neurons.html)\n",
    "- The more we can span the space within which we are working, the higher likelihood we have at accurately representing our data. There is a tradeoff though! More neurons means more power, computational complexity, and training time. \n",
    "- Hand tuning every neuron is unreasonable, but if we know something useful about our inputs, we can tweak certain parts of the ensemble and as a result reduce the number of neurons required. For instance, if our inputs will never be negative, we can set encoders to only care about positive values and have all other parameters be random. That way we don't have useless neurons that just don't spike. These are things to consider as you choose how to represent your data.\n",
    "\n",
    "Default Nengo Neuron Parameters:  \n",
    "- Max firing rates: randomly between 200 and 400Hz  \n",
    "- Intercepts: randomly vary between -1 and 1  \n",
    "- Encoders: randomly choose +1 or -1  \n",
    "\n",
    "Neuron Types:\n",
    "- There are many neuron types to choose from within Nengo. We learned about classic leaky integrate and fire (LIF) neurons during our neuroscience section. This is the default for Nengo and what we used in this example.\n",
    "- We will likely stick with LIF neurons, but as we get into our final project, there may be opportunities to explore the other types.\n",
    "- You can take a look at the [`nengo.neurons` source code](https://www.nengo.ai/nengo/v3.0.0/_modules/nengo/neurons.html) and search `neuronstype` to see your options"
   ]
  }
 ],
 "metadata": {
  "kernelspec": {
   "display_name": "py3.10-nengo3.2",
   "language": "python",
   "name": "python3"
  },
  "language_info": {
   "codemirror_mode": {
    "name": "ipython",
    "version": 3
   },
   "file_extension": ".py",
   "mimetype": "text/x-python",
   "name": "python",
   "nbconvert_exporter": "python",
   "pygments_lexer": "ipython3",
   "version": "3.10.13"
  }
 },
 "nbformat": 4,
 "nbformat_minor": 2
}
