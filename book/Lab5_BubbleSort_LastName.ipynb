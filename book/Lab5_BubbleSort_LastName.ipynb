{
  "cells": [
    {
      "cell_type": "markdown",
      "metadata": {
        "id": "pBTLVYhRKgxM"
      },
      "source": [
        "## Lab 5: Bubble Sort using Nengo Neurons\n",
        "\n",
        "This lab uses Nengo to sort an array using the bubble sort algorithm. The objectives of this lab are to:\n",
        "\n",
        "1. Utilize the fundamentals we've learned to implement the bubble sort algorithm\n",
        "2. Using our model, sort an array of 4 values"
      ]
    },
    {
      "cell_type": "markdown",
      "metadata": {},
      "source": [
        "### Grading Specifications\n",
        "\n",
        "◻ Filename changed to reflect last name of person submitting assignment    \n",
        "◻ Code runs error free  \n",
        "◻ Jupyter notebook is saved such that outputs appear upon opening file (and therefore on gradescope)  \n",
        "◻ (On your honor) All markdown and resources read thoroughly and fully understood    \n",
        "◻ **Comment your code** - this lab requires a lot of independent work. You're ready for it! To ensure you earn the score you deserve and/or to ensure I can provide valuable feedback, please help me understand your thought process by commenting as you go!  \n",
        "◻ Create an array of four _unique_ values between -1 and 1 at rounded to one decimal place that changes each time you run this notebook    \n",
        "◻ Create a multi-dimensional node for your input array  \n",
        "◻ Create a multi-dimensional neuron ensemble to represent your input array  \n",
        "◻ Plot the neural representation of your input array using a single probe  \n",
        "◻ Build combine ensemble(s), compare ensemble(s), comparison function(s), and connect everything such that your model implements all comparisons required to sort the input array of four values   \n",
        "◻ As part of the last section, plot the neural representation of your input array using a single probe once more  \n",
        "◻ Plot the final sorted array by probing the appropriate output neurons  \n",
        "◻ Include a key in your final sorted array plot  \n",
        "◻ (Recommended) Fully understand your results by analyzing and discussing outputs with classmates using the discussion section at the end of this lab\n",
        "***"
      ]
    },
    {
      "cell_type": "markdown",
      "metadata": {},
      "source": [
        "#### Set up\n",
        "\n",
        "**Ensure you are using your 495 Virtual Environment before you begin!**  \n",
        "    \n",
        "Import Nengo and other supporting libraries into your program to get started:"
      ]
    },
    {
      "cell_type": "code",
      "execution_count": 25,
      "metadata": {
        "id": "5T8-BHo0HUCC"
      },
      "outputs": [],
      "source": [
        "import matplotlib.pyplot as plt\n",
        "import numpy as np\n",
        "\n",
        "import nengo\n",
        "\n",
        "from nengo.dists import Uniform\n",
        "from nengo.utils.matplotlib import rasterplot"
      ]
    },
    {
      "cell_type": "markdown",
      "metadata": {
        "id": "XnWc6arGLcEr"
      },
      "source": [
        "### How Bubble Sort Works\n",
        "\n",
        "Working left to right, compare two elements at a time and swap (if necessary) so that the higher number is to the right. By working all the way left to right, the highest number should end up in the correct position (the last position) after the \"first pass\". In the 4-element array case, element 1 is compared with element 2 and swapped if applicable, then the (possibly new) element 2 is compared with element 3, swapped if applicable, then the (possibly new) element 3 is compared with element 4, swapped if applicable. The final element 4 is the largest number in the array and will not move for any future pass.\n",
        "\n",
        "After the first pass is completed, we work left to right again, but this time for just the first three positions, since the fourth is already locked in from the previous step. The second largest value should end up in the third position after this pass.\n",
        "\n",
        "Once the second pass is completed, we just need to rearrange the first two digits and we have a fully sorted array!"
      ]
    },
    {
      "cell_type": "markdown",
      "metadata": {
        "id": "SRNvPHASH60r"
      },
      "source": [
        "### Create your array to be sorted\n",
        "\n",
        "We will use an array of four _unique_ values between -1 and 1 rounded to 1 decimal place (to make it easier to interpret results). This array should change each time you run your code to ensure your algorithm is running for all cases. Things to consider:\n",
        "- You may want to start of with a predictable array as you debug your program\n",
        "- When you're ready to make your input array random, you'll need to do two things: (1) Create an array between -1 and 1 at .1 increments. See here for [help](https://numpy.org/doc/stable/reference/generated/numpy.linspace.html). (2) You'll need to choose four of those values as your array in random order **but** ensure the values are not repeated. See here for [help](https://numpy.org/doc/stable/reference/random/generated/numpy.random.choice.html). You'll have three arguments, the first being all possible values, the second being the length of your array, and the third being `replace` to ensure values do not repeat.\n",
        "- Call your final input array `input_array`"
      ]
    },
    {
      "cell_type": "code",
      "execution_count": null,
      "metadata": {
        "colab": {
          "base_uri": "https://localhost:8080/"
        },
        "id": "ujj_kHg6IFcF",
        "outputId": "a9b6675c-9468-48e5-85eb-d2a7bf3b9a6c"
      },
      "outputs": [],
      "source": [
        "???\n",
        "\n",
        "print(input_array)"
      ]
    },
    {
      "cell_type": "markdown",
      "metadata": {
        "id": "rdEV5qImCmr9"
      },
      "source": [
        "### Encode all inputs for sorting\n",
        "\n",
        "Create the model and add input nodes, neuron ensembles, connections, and probes to visualize our encoded input array.\n",
        "\n",
        "Tips:\n",
        "- Nengo nodes can be multidimensional. You can feed your 4-element input array directly into a Nengo node, probe the single node, and view the output of each dimension at once.  \n",
        "- Consider how many dimensions your input ensemble needs to be to accomodate your multi-dimensional input node.  \n",
        "- Consider the radius for your multi-dimensonal input ensemble given you will need to represent values -1 and 1.\n",
        "- For probing and plotting, same goes for Neuron ensembles as it did for nodes.  \n",
        "- Based on the dimensions of your input ensemble, consider how many neurons will be necessary to accurately represent all elements of your input array. \n",
        "- Nengo can interpret how to connect a multidimensional node to a multidimensional neuron ensemble automatically. Simply connect the two to one another.\n",
        "- Your input values aren't changing. Pick a simulation time accordingly."
      ]
    },
    {
      "cell_type": "code",
      "execution_count": null,
      "metadata": {
        "colab": {
          "base_uri": "https://localhost:8080/",
          "height": 531
        },
        "id": "lH3Oq4a-PAPl",
        "outputId": "d7f0ea25-35ee-4bde-b8d1-43f4a698c370"
      },
      "outputs": [],
      "source": [
        "# Create a model to perform the sorting\n",
        "model = nengo.Network(label=\"SortArray\")\n",
        "with model:\n",
        "    # Add input node\n",
        "    input_node = ???\n",
        "\n",
        "    # Add neuron ensembles to encode each value of the array\n",
        "    input_ensemble = ???\n",
        "\n",
        "    # Connect the node to the neuron ensemble\n",
        "    ???\n",
        "\n",
        "    # Add probes to your node and ensemble\n",
        "    ???\n",
        "    ???\n",
        "\n",
        "# Build the simulator to run the model containing just input encoding\n",
        "with nengo.Simulator(model) as sim:\n",
        "    sim.run(???)\n",
        "\n",
        "# Plot the input array and the respective decoded ensemble values\n",
        "t = sim.trange()\n",
        "plt.figure()\n",
        "plt.plot(???)\n",
        "plt.plot(???)\n",
        "plt.legend()\n",
        "plt.ylim(-1.1, 1.1)\n",
        "plt.xlabel(\"time [s]\")\n",
        "plt.title(\"Encoded Input Values\")\n",
        "plt.show()"
      ]
    },
    {
      "cell_type": "markdown",
      "metadata": {
        "id": "GVEl2ZdARMhN"
      },
      "source": [
        "### Set up neurons to perform the comparisons required for Bubble Sort\n",
        "\n",
        "We need neuron ensembles to compare each of the inputs from left to right, two at a time.\n",
        "\n",
        "Notes:\n",
        "- You will need a `combine_ensemble` and a `compare_ensemble` for each comparison since you will compare 2 distinct values at a time. \n",
        "- For an array of four values, determine how many total comparisons $N$ will be required to sort the array into ascending order. You can either have a $2\\times N$ dimensional `combine_ensemble` that holds all of your values that will feed into your comparisons and index accordingly, or you can have $N$ 2-D `combine_ensemble_n`, where `n` is the increment number (i.e. $1, 2, 3, ...$). \n",
        "- You will need to retain the smaller values of the comparison for the next pass. Consider the impact on your `compare_ensemble` dimensions. Again, you can either have `compare_ensemble` or `compare_ensemble_n`\n",
        "- Whichever route you use for programming your combine and compare ensembles, be sure to choose enough neurons to best represent these functions!\n",
        "- Also consider your radii! What happens if you are comparing the extremes?\n",
        "- Build your compare function(s) outside of the model"
      ]
    },
    {
      "cell_type": "code",
      "execution_count": 28,
      "metadata": {
        "id": "_QfLpTgGRF6G"
      },
      "outputs": [],
      "source": [
        "with model:\n",
        "    # Create combine and compare ensembles\n",
        "    ???\n",
        "\n",
        "# Create a function to return the largest value\n",
        "def ???"
      ]
    },
    {
      "cell_type": "markdown",
      "metadata": {
        "id": "HGuwtrA_Teuu"
      },
      "source": [
        "### Connect and Probe all the things!\n",
        "\n",
        "Now, connect all of your neuron ensembles to implement bubble sort. Watch your indexing!!"
      ]
    },
    {
      "cell_type": "code",
      "execution_count": 29,
      "metadata": {
        "id": "is5fUocSTlBm"
      },
      "outputs": [],
      "source": [
        "with model:\n",
        "    # Create connections to implement bubblesort!\n",
        "    ???"
      ]
    },
    {
      "cell_type": "markdown",
      "metadata": {
        "id": "cYaHxXuZc-O5"
      },
      "source": [
        "Add probes to the outputs to see how well our neurons sorted your input array. Don't forget your `synapse` argument."
      ]
    },
    {
      "cell_type": "code",
      "execution_count": 30,
      "metadata": {
        "id": "AXae7R73euxS"
      },
      "outputs": [],
      "source": [
        "with model:\n",
        "    # add probes to 4 output neurons (those contributing to the sorted array)\n",
        "    ???\n",
        "    ???\n",
        "    ???\n",
        "    ???"
      ]
    },
    {
      "cell_type": "markdown",
      "metadata": {
        "id": "4Z7BGJqXfJNy"
      },
      "source": [
        "Run your updated model with a simulation time that makes sense"
      ]
    },
    {
      "cell_type": "code",
      "execution_count": null,
      "metadata": {
        "colab": {
          "base_uri": "https://localhost:8080/",
          "height": 76
        },
        "id": "OaBSTRqmfMHi",
        "outputId": "034dc7a9-111a-4926-d3c4-70f892248d8b"
      },
      "outputs": [],
      "source": [
        "with nengo.Simulator(model) as sim:\n",
        "    sim.run(???)"
      ]
    },
    {
      "cell_type": "markdown",
      "metadata": {
        "id": "IU76Mt_cfa7q"
      },
      "source": [
        "### Plot the data!\n",
        "\n",
        "**Recommendation:** Probe and plot debug nodes throughout the bubble sort implementation to ensure you are comparing the right things! Hand crank the computations and compare to the plots as you debug.  \n",
        "\n",
        "**Required for final Gradescope submission:** \n",
        "- Plot 1: Plot your _encoded_ input\n",
        "- Plot 2: Plot the probes associated with those that will give the correct sorted array. This will require indexing. **Include a key, otherwise I won't know if it sorted correctly!**"
      ]
    },
    {
      "cell_type": "code",
      "execution_count": null,
      "metadata": {
        "colab": {
          "base_uri": "https://localhost:8080/",
          "height": 944
        },
        "id": "tM7hBsFufb7j",
        "outputId": "2af38440-acd5-4f88-d4d7-7e3f6401a50d"
      },
      "outputs": [],
      "source": [
        "## Plot the results!\n",
        "# Plot the input signals and decoded ensemble values\n",
        "t = sim.trange()\n",
        "plt.figure()\n",
        "plt.plot(???)\n",
        "plt.legend()\n",
        "plt.ylim(-1.1, 1.1)\n",
        "plt.xlabel(\"time [s]\")\n",
        "plt.title(\"Input Array (not sorted)\")\n",
        "plt.show()\n",
        "\n",
        "print(\"Input Array =\", input_array)\n",
        "\n",
        "## Plot the results!\n",
        "# Plot the input signals and decoded ensemble values\n",
        "t = sim.trange()\n",
        "plt.figure()\n",
        "plt.plot(???)\n",
        "plt.plot(???)\n",
        "plt.plot(???)\n",
        "plt.plot(???)\n",
        "plt.legend()\n",
        "plt.ylim(-1.1, 1.1)\n",
        "plt.xlabel(\"time [s]\")\n",
        "plt.title(\"Sorted Array\")\n",
        "plt.show()"
      ]
    },
    {
      "cell_type": "markdown",
      "metadata": {},
      "source": [
        "### Discussion\n",
        "\n",
        "- Why do your sorted outputs have a weird curve at the beginning? Consider inherent Nengo neuron dynamics.\n",
        "- Why didn't we try to reuse the comparison functions instead of doing separate comparisons $N$ times? Recall our dynamics lectures.\n",
        "- How would we do this for any-dimensional array (i.e. how would we generalize this implementation)?\n"
      ]
    }
  ],
  "metadata": {
    "colab": {
      "provenance": []
    },
    "kernelspec": {
      "display_name": "Python 3",
      "name": "python3"
    },
    "language_info": {
      "codemirror_mode": {
        "name": "ipython",
        "version": 3
      },
      "file_extension": ".py",
      "mimetype": "text/x-python",
      "name": "python",
      "nbconvert_exporter": "python",
      "pygments_lexer": "ipython3",
      "version": "3.10.11"
    }
  },
  "nbformat": 4,
  "nbformat_minor": 0
}
