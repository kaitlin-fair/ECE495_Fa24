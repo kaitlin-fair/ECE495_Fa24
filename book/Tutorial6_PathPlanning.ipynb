{
 "cells": [
  {
   "cell_type": "markdown",
   "metadata": {},
   "source": [
    "## Krichmar Path Planning using Nengo - Tutorial\n",
    "\n",
    "This tutorial covers the following:\n",
    "- Delay Nodes used to represent difficulty of traversal for each map location\n",
    "- Hints on how to implement inhibition (turn neurons off once a map location has fired)\n",
    "- How to build your AER"
   ]
  },
  {
   "cell_type": "markdown",
   "metadata": {},
   "source": [
    "#### Set up\n",
    "\n",
    "**Ensure you are using your [495 Virtual Environment](https://github.com/kaitlin-fair/495venv_setup) before you begin!**  \n",
    "    \n",
    "Import Nengo and other supporting libraries into your program to get started:"
   ]
  },
  {
   "cell_type": "code",
   "execution_count": null,
   "metadata": {},
   "outputs": [],
   "source": [
    "import matplotlib.pyplot as plt\n",
    "import numpy as np\n",
    "\n",
    "import nengo\n",
    "\n",
    "from nengo.processes import Piecewise\n",
    "from nengo.processes import WhiteSignal\n"
   ]
  },
  {
   "cell_type": "markdown",
   "metadata": {},
   "source": [
    "### Delays using Nengo Nodes\n",
    "\n",
    "We can use a Nengo node to implement an n-timestep delayed connection by using a node. Why a node? Nodes are useful for more complex functions than what we covered in `Tutorial3b`. Why a delay? Often times you want to line up inputs perfectly in time and a delay can make that happen. In the case of Path Planning, we want to use the delay to represent the cost of our map locations. If a map location is more difficult to traverse (i.e. higher cost), then it takes longer to get through - hence a delay. The spike won't emit from that map location until the delay node allows it to do so.\n",
    "\n",
    "This example uses object-oriented programming to set up the delay. You can find a pretty good tutorial on the topic [here](https://www.udacity.com/blog/2021/11/__init__-in-python-an-overview.html). You can also see how `np.roll` works [here](https://numpy.org/doc/stable/reference/generated/numpy.roll.html).\n",
    "\n",
    "The class `Delay` starts off with an array called `self.history` of 250 zeros (each time step is `dt=.001` seconds and we want a `time_delay=25` seconds, which is in total 250 time steps). For the first actual time step of the system ($t=1$), the `self.history` array updates to $\\begin{bmatrix} 0 & 0 & ... & x(1) \\end{bmatrix}$, but what leaves the node is the first element of the array, 0. This is what we want! We are delaying our signal while storing what will come 250 timesteps later. At the next time step ($t=2$), the `self.history` array updates to $\\begin{bmatrix} 0 & 0 & ... & x(1) & x(2) \\end{bmatrix}$. Keep going until time step $t=250$ and you should get the `self.history` array $\\begin{bmatrix} x(1) & x(2) & ... & x(249) & x(250) \\end{bmatrix}$ and the first element $x(1)$ is what leaves the node. That means at time step 250, you're just now seeing the start of the original signal, i.e. you've delayed the signal by 250 timesteps!\n",
    "\n"
   ]
  },
  {
   "cell_type": "code",
   "execution_count": null,
   "metadata": {},
   "outputs": [],
   "source": [
    "model = nengo.Network(label=\"Delayed connection\")\n",
    "with model:\n",
    "    # We'll use white noise as input\n",
    "    inp = nengo.Node(WhiteSignal(2, high=5), size_out=1)\n",
    "    A = nengo.Ensemble(40, dimensions=1)\n",
    "    nengo.Connection(inp, A)\n",
    "\n",
    "\n",
    "# We'll make a simple object to implement the delayed connection\n",
    "class Delay:\n",
    "    def __init__(self, dimensions, timesteps=50):\n",
    "        self.history = np.zeros((timesteps, dimensions))\n",
    "\n",
    "    def step(self, t, x):\n",
    "        self.history = np.roll(self.history, -1)\n",
    "        self.history[-1] = x\n",
    "        return self.history[0]\n",
    "\n",
    "dt = 0.001 # default nengo timestep\n",
    "time_delay = .25 # seconds by which you wish to delay the signal\n",
    "delay = Delay(1, timesteps=int(time_delay / dt))\n",
    "\n",
    "with model:\n",
    "    delaynode = nengo.Node(delay.step, size_in=1, size_out=1)\n",
    "    nengo.Connection(A, delaynode)\n",
    "\n",
    "    # Send the delayed output through an ensemble\n",
    "    B = nengo.Ensemble(40, dimensions=1)\n",
    "    nengo.Connection(delaynode, B)\n",
    "\n",
    "    # Probe the input at the delayed output\n",
    "    A_probe = nengo.Probe(A, synapse=0.01)\n",
    "    B_probe = nengo.Probe(B, synapse=0.01)"
   ]
  },
  {
   "cell_type": "code",
   "execution_count": null,
   "metadata": {},
   "outputs": [],
   "source": [
    "# Run for 2 seconds\n",
    "with nengo.Simulator(model) as sim:\n",
    "    sim.run(2)\n",
    "\n",
    "# Plot the results\n",
    "plt.figure()\n",
    "plt.subplot(2, 1, 1)\n",
    "plt.plot(sim.trange(), sim.data[A_probe], lw=2)\n",
    "plt.title(\"Input\")\n",
    "plt.subplot(2, 1, 2)\n",
    "plt.plot(sim.trange(), sim.data[B_probe], lw=2)\n",
    "plt.axvline(time_delay, c=\"k\")\n",
    "plt.title(\"Delayed output\")\n",
    "plt.tight_layout()\n"
   ]
  },
  {
   "cell_type": "markdown",
   "metadata": {},
   "source": [
    "#### Discussion\n",
    "\n",
    "The delay nodes should be placed _prior_ to the map locations they are delaying. Think through this and decide for yourself whether or not that makes sense. \n",
    "\n",
    "If you aren't convinced, consider the delay the difficulty of traversal. Example: a map location has a weight / difficulty of 3 which means it'll take 3 seconds to get through said map location. If you place the delay just prior to the map location neuron, the map location will begin firing at the same(ish) time as the delay node. This occurs 3 seconds _after_ it receives a spike from it's neighbor. The output spike will then go to the delay nodes of it's neighbors, which have delays of whatever the neighbor's weights are. Rinse. Repeat."
   ]
  },
  {
   "cell_type": "markdown",
   "metadata": {},
   "source": [
    "### Inhibition using Nengo Nodes\n",
    "\n",
    "To inhibit your neurons, you will want to _create a new node_ that performs the inhibition activity. This will be a significant portion of your lab! It is important to understand how to use nodes for functions like this because every final project will likely require at least one - make sure you get this right and fully understand how you did it.\n",
    "\n",
    "Some tips:\n",
    "- Once a map location begins spiking, it fires for a brief pulse, then stops firing\n",
    "- This means you first have a drastic increase (`started_spiking = True`). Prior, this was `False`\n",
    "- Once `started_spiking = True`, you should have a drastic decrease soon after (`finished_spiking = True`)\n",
    "- Once `finished_spiking = True`, you can just return 0 forever after (instead of `x`)!"
   ]
  },
  {
   "cell_type": "markdown",
   "metadata": {},
   "source": [
    "### Building your AER\n",
    "\n",
    "Creating a table of map locations and time of first spike isn't as scary as it may seem at first glance. You know how to probe neurons, and you know how to plot the probed data. That means that at every time step of your simulation, your neuron outputs have a value. When said value hits that first rapid increase, you can find at what time this happens within the simulation by analyzing the amplitude and store that time for a particular map location. Let's look at an example."
   ]
  },
  {
   "cell_type": "code",
   "execution_count": null,
   "metadata": {},
   "outputs": [],
   "source": [
    "model = nengo.Network(label=\"AER\")\n",
    "with model:\n",
    "\n",
    "    inp_node = nengo.Node(Piecewise({0: 0, .25: 1, .5: 0})) # quick spike into start node\n",
    "\n",
    "    inp_neuron = nengo.Ensemble(100, 1)\n",
    "\n",
    "    nengo.Connection(inp_node,inp_neuron)\n",
    "\n",
    "    neuron_probe = nengo.Probe(inp_neuron, synapse=0.01)\n",
    "\n",
    "# Build the simulator to run the model containing just input encoding\n",
    "with nengo.Simulator(model) as sim:\n",
    "    # Run it for 1 second\n",
    "    sim.run(1)\n",
    "\n",
    "# Plot the decoded input from the neuron\n",
    "plt.figure()\n",
    "plt.plot(sim.trange(), sim.data[neuron_probe], \"r\")\n",
    "plt.xlabel(\"time [s]\")\n",
    "plt.title(\"Neuron Output\")\n"
   ]
  },
  {
   "cell_type": "markdown",
   "metadata": {},
   "source": [
    "From here, let's figure out where the first spike occurs using `sim.data[neuron_probe]` (should be around .25 seconds).\n",
    "\n",
    "_All of this happens OFF-NEURON_, i.e. we don't build the map or find our optimal path within our Nengo model. We do this in regular Python-land."
   ]
  },
  {
   "cell_type": "code",
   "execution_count": null,
   "metadata": {},
   "outputs": [],
   "source": [
    "# note that sim.data[neuron_probe] is an Nx1 array, \n",
    "#  which means there's a second dimension we don't care about.\n",
    "#  The spike data occurs in dimension 0. Grab that one.\n",
    "aer = sim.data[neuron_probe][:,0]>.25\n",
    "spikes_locs = np.where(aer == True)\n",
    "first_spike = np.min(spikes_locs)\n",
    "\n",
    "print(\"This is time step where the pulse first begins: \", first_spike)\n",
    "\n",
    "dt = .001 # default nengo timestep\n",
    "print(\"This time step occurs at approximately \", first_spike*dt, \" seconds\")"
   ]
  },
  {
   "cell_type": "markdown",
   "metadata": {},
   "source": [
    "#### Discussion\n",
    "\n",
    "Build your AER table for every neuron in your map. Then _using your map_, work backwards (end location to start location) to find your optimal path!\n",
    "\n",
    "There is an alternate way of finding your first spike from each map location! Instead of using output spikes to determine when a node first spiked, you can store your first spike for each map location _in your inhibition node_ and grab that data later via object oriented programming (something like `inhib.first_spike`). This method would be cleaner and easier (no crazy `for` loops or issues with neuron noise), but you do what is most intuitive to you."
   ]
  }
 ],
 "metadata": {
  "kernelspec": {
   "display_name": "py3.10-nengo3.2",
   "language": "python",
   "name": "python3"
  },
  "language_info": {
   "codemirror_mode": {
    "name": "ipython",
    "version": 3
   },
   "file_extension": ".py",
   "mimetype": "text/x-python",
   "name": "python",
   "nbconvert_exporter": "python",
   "pygments_lexer": "ipython3",
   "version": "3.10.13"
  }
 },
 "nbformat": 4,
 "nbformat_minor": 2
}
