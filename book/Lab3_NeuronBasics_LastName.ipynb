{
 "cells": [
  {
   "cell_type": "markdown",
   "metadata": {},
   "source": [
    "## Lab 3: Neuron Basics using Nengo\n",
    "The objectives of this lab are to:\n",
    "\n",
    "1. Build Nengo neurons to best represent input values and functions by tuning thresholds, encoders, numbers of neurons, synapses, radii, and simulation time.\n",
    "2. Implement neuron transformations using 1D and multidimensional neurons.\n",
    "\n",
    "_Note: your Neuron Basics tutorials will be extremely helpful in completing this lab. Be sure to reference those as you go._ \n",
    "\n",
    "***"
   ]
  },
  {
   "cell_type": "markdown",
   "metadata": {},
   "source": [
    "### Grading Specifications\n",
    "\n",
    "◻ Filename changed to reflect last name of person submitting assignment    \n",
    "◻ Code runs error free  \n",
    "◻ All lines of code edited/changed contain comments with thought process behind methodology - help me understand what you're doing!  \n",
    "◻ Input node correctly implemented.  \n",
    "◻ Use `np.piecewise` to plot your input outside of Nengo.  \n",
    "◻ Choose neuron parameters of a two neuron ensemble to best represent your input piecewise function.  \n",
    "◻ Choose neuron parameters of a 100 neuron ensemble to best represent the reLu function performed on your input piecewise function.  \n",
    "◻ Correctly use neuron transformations with a 100 neuron ensemble to implement the reLu function performed on your input piecewise function.  \n",
    "◻ Correctly use neuron transformations with a 100 neuron ensemble to make the entire Piecewise input function negative (i.e. same magnitudes, all negative).  \n",
    "◻ Correctly utilize a multi-dimensional neuron consisting of 1000 neurons to build the output function defined in the instructions.  \n",
    "◻ Jupyter notebook is saved such that outputs appear upon opening file (and therefore on gradescope)  \n",
    "◻ (Recommended) Fully understand your results by analyzing and discussing outputs with classmates. Doing so will help you on your quizzes!    \n",
    "◻ (Recommended) All markdown and resources read thoroughly  "
   ]
  },
  {
   "cell_type": "markdown",
   "metadata": {},
   "source": [
    "#### Set up\n",
    "\n",
    "**Ensure you are using your 495 Virtual Environment before you begin!**  \n",
    "    \n",
    "Import required libraries:"
   ]
  },
  {
   "cell_type": "code",
   "execution_count": null,
   "metadata": {},
   "outputs": [],
   "source": [
    "import numpy as np\n",
    "import matplotlib.pyplot as plt\n",
    "from nengo.dists import Uniform\n",
    "\n",
    "import nengo\n",
    "from nengo.processes import Piecewise"
   ]
  },
  {
   "cell_type": "markdown",
   "metadata": {},
   "source": [
    "Define the following piecewise function within your Nengo model using a Nengo node: `Piecewise({0: -.4, 1: -.2, 2: .2, 3: .4,  4: -.1})`  "
   ]
  },
  {
   "cell_type": "code",
   "execution_count": null,
   "metadata": {},
   "outputs": [],
   "source": [
    "model = nengo.Network(label=\"Lab1\")\n",
    "\n",
    "with model:\n",
    "    # \n",
    "    input_node = ???"
   ]
  },
  {
   "cell_type": "markdown",
   "metadata": {},
   "source": [
    "### Neuron Representation \n",
    "\n",
    "Plot your function using [`np.piecewise`](https://numpy.org/doc/stable/reference/generated/numpy.piecewise.html) to ensure you have intuition of what your outputs should be _outside of your Nengo model_."
   ]
  },
  {
   "cell_type": "code",
   "execution_count": null,
   "metadata": {},
   "outputs": [],
   "source": [
    "def piecewise_function(x):\n",
    "    return np.piecewise(x, \n",
    "                        [(x >= 0) & (x < 1),\n",
    "                         ???, \n",
    "                         (x >= 2) & (x < 3), \n",
    "                         ???, \n",
    "                         (x >= 4)], \n",
    "                        [lambda x: ???, \n",
    "                         lambda x: -.2, \n",
    "                         lambda x: ???,\n",
    "                         lambda x: .4,\n",
    "                         lambda x: ???])\n",
    "\n",
    "x = np.linspace(0,5,500)\n",
    "input = piecewise_function(x)\n",
    "plt.figure()\n",
    "plt.plot(x,input, label=\"Input\")\n",
    "plt.legend(loc=\"best\")\n",
    "plt.ylim(-.6, .6)"
   ]
  },
  {
   "cell_type": "markdown",
   "metadata": {},
   "source": [
    "Using a neuron ensemble consisting of **_only two neurons_**, best represent your Piecewise function. To do so, you must:\n",
    "- Create an ensemble with the appropriate intercepts (thresholds), encoders, and radii\n",
    "    - Choose your maximum firing rate to be 100Hz.\n",
    "    - To select the right parameters, consider plotting or drawing your tuning curves\n",
    "    - Definitely take a look at this Nengo example [here](https://www.nengo.ai/nengo/examples/basic/two-neurons.html)\n",
    "    - By combining your knowledge of tuning curves and the above example, note that a non-zero intercept works better. Make sure you understand why!\n",
    "- Connect your input to your 2-neuron ensemble\n",
    "- Probe the ensemble with an appropriate synapse value\n",
    "- Run the simulator long enough to see the entire Piecewise function\n",
    "- Plot your results\n",
    "\n",
    "Note: the results will not be perfect, but with a maximum firing rate of 100Hz, it's pretty good! Think through why that might be the case."
   ]
  },
  {
   "cell_type": "code",
   "execution_count": null,
   "metadata": {},
   "outputs": [],
   "source": [
    "with model:\n",
    "    #--CREATE ENSEMBLE--\n",
    "    input_ensemble = nengo.Ensemble(n_neurons=???, dimensions=???, \n",
    "                                    max_rates=Uniform(???, ???),\n",
    "                                    # \n",
    "                                    intercepts=[???, ???],\n",
    "                                    # \n",
    "                                    encoders=[[???],[???]],\n",
    "                                    radius=???)\n",
    "\n",
    "    #--CONNECT INPUT TO ENSEMBLE--\n",
    "    inp_conn = nengo.Connection(???, ???)\n",
    "\n",
    "    #--PROBE ENSEMBLE--\n",
    "    input_probe= nengo.Probe(input_ensemble, synapse=???)\n",
    "\n",
    "#--RUN SIMULATOR--\n",
    "with nengo.Simulator(model) as sim:\n",
    "    sim.run(???)\n",
    "\n",
    "#--PLOT RESULTS OUTSIDE OF MODEL AND SIMULATOR--\n",
    "plt.figure()\n",
    "plt.plot(sim.trange(), sim.data[???], label=\"Decoded Estimate of Input\")\n",
    "plt.plot(x,input, label=\"Input\")\n",
    "plt.legend()\n",
    "plt.ylim(-.6, .6)\n",
    "plt.xlabel(\"time [s]\")\n",
    "plt.title(\"Neural Representation of Input\")"
   ]
  },
  {
   "cell_type": "markdown",
   "metadata": {},
   "source": [
    "Using a neuron ensemble consisting of **_100 neurons_**, implement the reLu function on your Piecewise input **_by choosing your ensemble parameters_** (i.e. not using transformations - that's next). To do so, you must:\n",
    "- Create an ensemble with the appropriate intercepts (threshold), encoders, and radii.\n",
    "    - Do not choose your maximimum firing rates. Allow Nengo to do that for you. Recall what that means your firing rates will be per Tutorial3a!\n",
    "    - Choose the same intercepts and encoders for all 100 neurons.\n",
    "    - Similar to the 2-neuron ensemble, a non-zero intercept works the best. However, there's a point at which it performs poorly. Choose the correct non-zero intercept. Be sure you understand why it breaks when you choose a smaller value.\n",
    "- Connect your original input _node_ to your 100-neuron ensemble\n",
    "- Probe the ensemble with an appropriate synapse value\n",
    "- Run the simulator long enough to see the entire Piecewise function\n",
    "- Plot your results\n",
    "\n",
    "Note: Consider why having only one maximum firing rate would perform worse than having a lot of different rates. You can play with your max_rates to test out your theory. Consider why using 100 neurons works better than just 1, even when they all have the same intercepts and encoders. You can play with the variable `num_neurons` to test your theory. **_However, be sure to save your file so that it loads to Gradescope with your plot for 100 neurons and using Nengo-determined firing rates_**"
   ]
  },
  {
   "cell_type": "code",
   "execution_count": null,
   "metadata": {},
   "outputs": [],
   "source": [
    "with model:\n",
    "    #--CREATE ENSEMBLE--\n",
    "    num_neurons=???\n",
    "    # Called this relu1 because you will do reLu a second time using transformations\n",
    "    relu1_ensemble = nengo.Ensemble(n_neurons=num_neurons, dimensions=???,\n",
    "                                    #max_rates=Uniform(100, 100),\n",
    "                                    # \n",
    "                                    intercepts=Uniform(???,???),\n",
    "                                    # \n",
    "                                    encoders=np.tile([[???]], (num_neurons, 1)),\n",
    "                                    radius=???)\n",
    "\n",
    "    #--CONNECT INPUT TO ENSEMBLE--\n",
    "    relu1_conn = nengo.Connection(???, ???)\n",
    "\n",
    "    #--PROBE ENSEMBLE--\n",
    "    relu1_probe= nengo.Probe(???, synapse=???)\n",
    "\n",
    "#--RUN SIMULATOR--\n",
    "with nengo.Simulator(model) as sim:\n",
    "    sim.run(???)\n",
    "\n",
    "#--PLOT RESULTS OUTSIDE OF MODEL AND SIMULATOR--\n",
    "plt.figure()\n",
    "plt.plot(sim.trange(), sim.data[???], label=\"Decoded Estimate of relu1(Input)\")\n",
    "plt.plot(x,input, label=\"Input\")\n",
    "plt.legend()\n",
    "plt.ylim(-.6, .6)\n",
    "plt.xlabel(\"time [s]\")\n",
    "plt.title(\"Neural Representation of relu1(Input) using Neuron Parameters\")"
   ]
  },
  {
   "cell_type": "markdown",
   "metadata": {},
   "source": [
    "### Neuron Transformation\n",
    "\n",
    "Using a neuron ensemble consisting of **_100 neurons_**, implement the reLu function on your Piecewise input using neuron transformations. To do so, you must:\n",
    "- Create an ensemble with the appropriate radii\n",
    "    - Do not manually choose all 100 intercepts and encoders - we are now adequately spanning the space by allowing Nengo to randomly choose our parameters\n",
    "- Build a function that computes the reLu function _outside of your model_\n",
    "- Connect your original input _node_ to your 100-neuron ensemble _with_ the reLu function\n",
    "- Probe the ensemble with an appropriate synapse value\n",
    "- Run the simulator long enough to see the entire Piecewise function\n",
    "- Plot your results\n",
    "\n",
    "Note: This one should look pretty perfect. Think through why that's the case."
   ]
  },
  {
   "cell_type": "code",
   "execution_count": null,
   "metadata": {},
   "outputs": [],
   "source": [
    "def relu(x):\n",
    "    ???\n",
    "\n",
    "with model:\n",
    "    #--CREATE ENSEMBLE--\n",
    "    relu_ensemble = nengo.Ensemble(n_neurons=???, dimensions=???, \n",
    "                                   radius=???)\n",
    "\n",
    "    #--CONNECT INPUT TO ENSEMBLE--\n",
    "    relu_conn = nengo.Connection(???, ???, function=???)\n",
    "\n",
    "    #--PROBE ENSEMBLE--\n",
    "    relu_probe= nengo.Probe(???, synapse=???)\n",
    "\n",
    "#--RUN SIMULATOR--\n",
    "with nengo.Simulator(model) as sim:\n",
    "    sim.run(???)\n",
    "\n",
    "#--PLOT RESULTS OUTSIDE OF MODEL AND SIMULATOR--\n",
    "plt.figure()\n",
    "plt.plot(sim.trange(), sim.data[???], label=\"Decoded Estimate of reLu(Input)\")\n",
    "plt.plot(x,input, label=\"Input\")\n",
    "plt.legend()\n",
    "plt.ylim(-.6, .6)\n",
    "plt.xlabel(\"time [s]\")\n",
    "plt.title(\"Neural Representation of reLu(Input) using Neuron Transformation\")"
   ]
  },
  {
   "cell_type": "markdown",
   "metadata": {},
   "source": [
    "Using a neuron ensemble consisting of **_100 neurons_**, implement a function that makes _all_ values of your Piecewise Input negative using neuron transformations (i.e. the function should maintain the same magnitudes of your Piecewise input but all should be less than 0). To do so, you must:\n",
    "- Create an ensemble with the appropriate radii\n",
    "    - Do not manually choose all 100 intercepts and encoders - we are now adequately spanning the space by allowing Nengo to randomly choose our parameters\n",
    "- Build a function that computes the correct function _outside of your model_\n",
    "- Connect your original input _node_ to your 100-neuron ensemble _with_ the reLu function\n",
    "- Probe the ensemble with an appropriate synapse value\n",
    "- Run the simulator long enough to see the entire Piecewise function\n",
    "- Plot your results"
   ]
  },
  {
   "cell_type": "code",
   "execution_count": null,
   "metadata": {},
   "outputs": [],
   "source": [
    "def negvals(x):\n",
    "    ???\n",
    "\n",
    "with model:\n",
    "    #--CREATE ENSEMBLE--\n",
    "    negvals_ensemble = ???\n",
    "\n",
    "    #--CONNECT INPUT TO ENSEMBLE--\n",
    "    negvals_conn = ???\n",
    "\n",
    "    #--PROBE ENSEMBLE--\n",
    "    negvals_probe= ???\n",
    "\n",
    "#--RUN SIMULATOR--\n",
    "with nengo.Simulator(model) as sim:\n",
    "    sim.run(???)\n",
    "\n",
    "#--PLOT RESULTS OUTSIDE OF MODEL AND SIMULATOR--\n",
    "plt.figure()\n",
    "plt.plot(sim.trange(), sim.data[???], label=\"Decoded Estimate of Negative Input\")\n",
    "plt.plot(x,input, label=\"Input\")\n",
    "plt.legend()\n",
    "plt.ylim(-.6, .6)\n",
    "plt.xlabel(\"time [s]\")\n",
    "plt.title(\"Neural Representation of Negative Input\")"
   ]
  },
  {
   "cell_type": "markdown",
   "metadata": {},
   "source": [
    "### Multi-dimensional Neurons\n",
    "\n",
    "Using a multidimensional neuron ensemble consisting of **_1000 neurons_** and an output **_node_**, implement a function that\n",
    "- Adds 1 to your reLu outputs\n",
    "- Multiplies your negative values output by 2\n",
    "- Squares your original piecewise input (you can use the node for better accuracy)\n",
    "- Then takes the norm of the three new values using neuron transformations \n",
    "\n",
    "There are a few ways to do this. Regardless of which way you choose, you most definitely must:\n",
    "- Create your multidimensional ensemble with the appropriate number of dimensions and radii\n",
    "    - Do not manually choose your intercepts and encoders - we are now adequately spanning the space by allowing Nengo to randomly choose our parameters\n",
    "- Create your output node.\n",
    "    - This only requires the parameter `size_in=1`\n",
    "- Build a function (or functions) that computes the correct computations _outside of your model_\n",
    "- Make the right connections with the right functions\n",
    "- Probe the 1-dimensional ensemble with an appropriate synapse value\n",
    "- Run the simulator long enough to see the entire output\n",
    "- Plot your results\n",
    "\n",
    "If you're not sure if your output is correct, you can hand compute each step to check your work - it shouldn't take long and it's well worth it to be sure you've performed your transformations correctly!"
   ]
  },
  {
   "cell_type": "code",
   "execution_count": null,
   "metadata": {},
   "outputs": [],
   "source": [
    "def ???\n",
    "\n",
    "with model:\n",
    "    combine_neurons = ???\n",
    "    output_node = ???\n",
    "\n",
    "    # --- CONNECTIONS HERE ---\n",
    "\n",
    "    #--PROBE ENSEMBLE--\n",
    "    output_probe= ???\n",
    "\n",
    "#--RUN SIMULATOR--\n",
    "with nengo.Simulator(model) as sim:\n",
    "    sim.run(???)\n",
    "\n",
    "#--PLOT RESULTS OUTSIDE OF MODEL AND SIMULATOR--\n",
    "plt.figure()\n",
    "plt.plot(sim.trange(), sim.data[???], label=\"Decoded Estimate of Output\")\n",
    "plt.plot(x,input, label=\"Input\")\n",
    "plt.legend()\n",
    "#plt.ylim(-.6, .6)\n",
    "plt.xlabel(\"time [s]\")\n",
    "plt.title(\"Neural Representation of Output\")"
   ]
  }
 ],
 "metadata": {
  "kernelspec": {
   "display_name": ".venv",
   "language": "python",
   "name": "python3"
  },
  "language_info": {
   "codemirror_mode": {
    "name": "ipython",
    "version": 3
   },
   "file_extension": ".py",
   "mimetype": "text/x-python",
   "name": "python",
   "nbconvert_exporter": "python",
   "pygments_lexer": "ipython3",
   "version": "3.10.11"
  }
 },
 "nbformat": 4,
 "nbformat_minor": 2
}
