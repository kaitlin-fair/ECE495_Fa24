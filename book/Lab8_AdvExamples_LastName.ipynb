{
 "cells": [
  {
   "cell_type": "markdown",
   "metadata": {},
   "source": [
    "## Lab 8: Advanced Neuron Functionality\n",
    "\n",
    "The objectives of this lab are:\n",
    "- To read in a 1D data signal in Nengo that represents a baseline response to a stimulus\n",
    "- Implement a learning rule to show how an animal reduces its response to a repeated, benign stimulus (aka habituation)\n",
    "\n",
    "\n",
    "\n",
    "> Main Specs:  \n",
    "> ◻ Filename changed to reflect last name of person submitting assignment    \n",
    "> ◻ Code runs error free  \n",
    "> ◻ Jupyter notebook is saved such that outputs appear upon opening file (and therefore on gradescope)  \n",
    "◻ **Comment non-trivial code**   \n",
    "> ◻ (On your honor) All markdown and resources read thoroughly and fully understood  \n",
    "***"
   ]
  },
  {
   "cell_type": "markdown",
   "metadata": {},
   "source": [
    "#### Background\n",
    "\n",
    "Habituation: This is a form of learning where an animal learns to ignore a stimulus that is neither harmful nor beneficial. For instance, a loud noise may startle a creature initially, but after repeated exposure to the same noise without any negative consequences, the creature's response diminishes.\n",
    "\n",
    "For this lab, you will import a baseline stimulus response where the animal hears the loud noise three times. When you plot the data, you should notice that the amplitude of the response is the same every time. This would be the animal's response _if no learning occurred_.\n",
    "\n",
    "You will then implement a learning rule to gradually reduce the animal's response to the stimuli, meaning that by the time the animal hears the noise the third time, the amplitude of the response _after learning_ should be much smaller.\n"
   ]
  },
  {
   "cell_type": "markdown",
   "metadata": {},
   "source": [
    "#### Import your Libraries\n",
    "\n",
    "> Code Block Specs:  \n",
    "> ◻ Import all required libraries to implement  your lab  "
   ]
  },
  {
   "cell_type": "code",
   "execution_count": 129,
   "metadata": {},
   "outputs": [],
   "source": []
  },
  {
   "cell_type": "markdown",
   "metadata": {},
   "source": [
    "#### Load Data\n",
    "\n",
    "Download your data [by clicking here](_static/continuous_time_data.csv) and save the *.csv file into the same folder as this lab.\n",
    "\n",
    "The first column of the data file is the time, the second is the amplitude of the signal. The signal is measured every 1ms, so the samples will align perfectly with the Nengo simulator, meaning you won't have to do any tricks to grab the right time when it's time to pull it into Nengo. Meaning that if you use the `readData` function from the the Advanced Examples tutorial, you will simply feed it the second column of data. You're welcome!\n",
    "\n",
    "Read the *.csv file into this notebook using `pd.read_csv` (we've used this before!) such that you save off the second column as your input data. If you're confused, take a look at your variables from the tutorial compared to what you are generating for your data.\n",
    "\n",
    "> Code Block Specs:  \n",
    "> ◻ Load 1D time-varying signal into Jupyter notebook (not into Nengo yet) "
   ]
  },
  {
   "cell_type": "code",
   "execution_count": 130,
   "metadata": {},
   "outputs": [],
   "source": []
  },
  {
   "cell_type": "markdown",
   "metadata": {},
   "source": [
    "Utilize the `readData` function to view your data using a _Nengo node_. Take a look at the first column of your imported data to know for how long to run your simulator. Use your Nengo node to visualize your data (i.e. probe, run, and plot).\n",
    "\n",
    "> Code Block Specs:  \n",
    "> ◻ Build a Nengo node that utilizes the class `readData` to pull the time-varying signal into Nengo   \n",
    "> ◻ Probe your node  \n",
    "> ◻ Run your simulator for the appropriate amount of time (based on downloaded data!)  \n",
    "> ◻ Plot the output of your Node  "
   ]
  },
  {
   "cell_type": "code",
   "execution_count": null,
   "metadata": {},
   "outputs": [],
   "source": []
  },
  {
   "cell_type": "markdown",
   "metadata": {},
   "source": [
    "#### Implement Learning to Reduce the Response\n",
    "\n",
    "We will start with the same Nengo model structure as we did in the tutorial:\n",
    "[Input] ---> (A) ---> (B) ---> [Output]\n",
    "\n",
    "You can also reference the image in our OneNote lecture notes. (A) and (B) are both neuron ensembles. The output of (A) will be the neuron representation of the input (i.e. the same as the node output but a little noisier). The output of (B) will start out by looking the same as the output of (A). You will add an error ensemble and use the PES learning rule to \"push\" the output of (B) toward a very small or no response. \n",
    "\n",
    "**HOWEVER**, we won't be minimizing the difference between A and B like we did in class (think through why!! A and B are already the same - will our decoders change if the error is 0??). \n",
    "\n",
    "You will instead need to build a neuron node and respective ensemble (C), which will reqpresent your _desired output_. Use ensemble (C) in conjunction with your error ensemble to \"push\" the output of (B) toward your desired response!\n",
    "\n",
    "Think through what your desired response for habituation might be: eventually, if the fire alarm goes off enough times without an actual fire, we learn to ignore it. What would that function look like?\n",
    "\n",
    "_**In the end, you will have an input represented by ensemble (A), and you will train the decoders for (B) in real time to reduce the response to the repeated stimuli.**_\n",
    "\n",
    "Build your model and run for the appropriate amount of time.\n",
    "\n",
    "> Code Block Specs:  \n",
    "> ◻ Build a Nengo node with your desired response to the stimulus    \n",
    "> ◻ Build Nengo ensembles (A), (B), and (C)  \n",
    "> ◻ Implement the PES learning rule (just like the tutorial)  \n",
    "> ◻ Build a Nengo ensemble for your error   \n",
    "> ◻ Make the correct connections to push the output of (B) toward that of (C) - use the tutorial as a guide  \n",
    "> ◻ Probe ensembles (A), (B), and (C)  \n",
    "> ◻ Probe the decoders between (A) and (B)    "
   ]
  },
  {
   "cell_type": "code",
   "execution_count": null,
   "metadata": {},
   "outputs": [],
   "source": []
  },
  {
   "cell_type": "markdown",
   "metadata": {},
   "source": [
    "#### View Results\n",
    "\n",
    "Plot your outputs of ensembles A, B, and C. Plot a few decoders to see how they evolve over time.\n",
    "\n",
    "> Code Block Specs:   \n",
    "> ◻ Run your simulator for the appropriate amount of time (based on downloaded data!)  \n",
    "> ◻ Plot the output of ensembles (A), (B), and (C)   \n",
    "> ◻ Plot three decoders to see the learning occur over time   \n",
    "> ◻ Ensure there is a legend on each plot   "
   ]
  },
  {
   "cell_type": "code",
   "execution_count": null,
   "metadata": {},
   "outputs": [],
   "source": []
  }
 ],
 "metadata": {
  "kernelspec": {
   "display_name": ".venv",
   "language": "python",
   "name": "python3"
  },
  "language_info": {
   "codemirror_mode": {
    "name": "ipython",
    "version": 3
   },
   "file_extension": ".py",
   "mimetype": "text/x-python",
   "name": "python",
   "nbconvert_exporter": "python",
   "pygments_lexer": "ipython3",
   "version": "3.10.11"
  }
 },
 "nbformat": 4,
 "nbformat_minor": 2
}
