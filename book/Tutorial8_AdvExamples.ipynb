{
 "cells": [
  {
   "cell_type": "markdown",
   "metadata": {},
   "source": [
    "## Algorithms in Nengo: Advanced Examples\n",
    "\n",
    "This tutorial covers the following: \n",
    "\n",
    "1. Read 1D time-varying data from an external source into Nengo\n",
    "2. Learn decoders in real-time\n",
    "3. Perform matrix multiplication with greater than 2-dimensional neurons"
   ]
  },
  {
   "cell_type": "markdown",
   "metadata": {},
   "source": [
    "#### Set up\n",
    "\n",
    "**Ensure you are using your 495 Virtual Environment before you begin!**  \n",
    "    \n",
    "Import Nengo and other supporting libraries into your program to get started:"
   ]
  },
  {
   "cell_type": "code",
   "execution_count": 1,
   "metadata": {},
   "outputs": [],
   "source": [
    "import matplotlib.pyplot as plt\n",
    "import numpy as np\n",
    "\n",
    "import nengo\n",
    "from nengo.processes import Piecewise\n",
    "from nengo.processes import WhiteSignal\n",
    "from nengo.solvers import LstsqL2"
   ]
  },
  {
   "cell_type": "markdown",
   "metadata": {},
   "source": [
    "### Continuous Time Data\n",
    "\n",
    "We've talked a lot about how neurons are well suited to processing continous time data, but we've yet to see an example where we actually read in that data. Let's do that now.\n",
    "\n",
    "We are going to create some bogus time-varying data that is saved off somewhere that we then want to pull into Nengo for processing. Think of an EKG - our heart rhythm is constantly changing - i.e. the data recorded from our heart is time-varying aka continous time data.\n",
    "\n",
    "Imagine we want to connect the EKG recorder directly to neuromorphic hardware to detect cardiac events in real-time at low-power. Why? A hospital might have a lot of power, but what if you want to record events for a patient going about their normal life? We need something low power that can record for a while! For the record, we have these - but we are in a hypothetical situation where we want to further reduce the power consumed by implementing with neuromorphic hardware.\n",
    "\n",
    "OKAY. We need to proof of concept this prior to strapping a neuromorphic hardware architecture to a person, right? Here are the steps:\n",
    "1. Record data\n",
    "2. See if the data can be read by the architecture (import into Nengo simulator!)\n",
    "3. Build a processing algorithm that uses neurons as computational units (Nengo!)\n",
    "4.  Run the algorithm on data with real hardware (one that uses Nengo as the software architecture)\n",
    "5. Integrate the EKG recorder and the neuromorphic chip with the algorithm to ensure it works on hardware end-to-end\n",
    "6. Beta test it on users\n",
    "\n",
    "In this tutorial, we will to simulate step 1 (with bogus time-varying data) and implement step 2.\n",
    "\n",
    "#### Step 1\n",
    "Here is where we create bogus data, but you could instead load your own."
   ]
  },
  {
   "cell_type": "code",
   "execution_count": 2,
   "metadata": {},
   "outputs": [],
   "source": [
    "# This tells us how often the simulated heart beats (2 seconds with dt=.001 like Nengp)\n",
    "time_vector = np.arange(0, 2, 1e-3) \n",
    "\n",
    "# ChatGPT helped me simulate EKG data\n",
    "# EKG parameters\n",
    "heart_rate = 80  # beats per minute\n",
    "bpm_to_hz = heart_rate / 60  # Convert BPM to Hz\n",
    "signal_frequency = bpm_to_hz * np.pi * 2\n",
    "\n",
    "# Make some data over the course of time\n",
    "p_wave = np.sin(signal_frequency * time_vector) * np.exp(-np.power(time_vector - 0.25, 2) / (2 * 0.1**2))\n",
    "qrs_wave = np.piecewise(time_vector, \n",
    "                        [time_vector < 0.45, time_vector >= 0.45], \n",
    "                        [lambda t: -np.sin(5 * signal_frequency * t), \n",
    "                            lambda t: 0.8 * np.sin(2 * signal_frequency * t)])\n",
    "t_wave = 0.5 * np.sin(signal_frequency * time_vector) * np.exp(-np.power(time_vector - 0.7, 2) / (2 * 0.1**2))\n",
    "\n",
    "# Combine waves to create an artificial EKG signal\n",
    "ekg_signal = p_wave + qrs_wave + t_wave\n",
    "\n",
    "### Could also just create a sine wave outside of Nengo\n",
    "# time_vector = np.arange(0, 60, 1e-3)\n",
    "# ekg_signal = np.sin(time_vector)\n"
   ]
  },
  {
   "cell_type": "markdown",
   "metadata": {},
   "source": [
    "#### Step 2\n",
    "\n",
    "We will build a Nengo node that takes the data from outside of Nengo into a form that can be represented and processed using Nengo neurons. At each Nengo time step, the Nengo node will implement the step function defined for that value and time."
   ]
  },
  {
   "cell_type": "code",
   "execution_count": 3,
   "metadata": {},
   "outputs": [],
   "source": [
    "class readData:\n",
    "    def __init__(self, funct):\n",
    "        self.vals = funct\n",
    "\n",
    "    def step(self, t):\n",
    "    \n",
    "        self.vals = np.roll(self.vals, -1)\n",
    "        return self.vals[0]\n",
    "    \n",
    "inp = readData(ekg_signal)"
   ]
  },
  {
   "cell_type": "markdown",
   "metadata": {},
   "source": [
    "Now, we will connect this node to a neuron ensemble and see if the neuron ensemble correctly represents the input data. "
   ]
  },
  {
   "cell_type": "code",
   "execution_count": null,
   "metadata": {},
   "outputs": [],
   "source": [
    "model = nengo.Network(label=\"ReadData\")\n",
    "\n",
    "# Create a model to perform the sorting\n",
    "with model:\n",
    "\n",
    "    # Add input node \n",
    "    input_node = nengo.Node(inp.step)\n",
    "\n",
    "    # Add a single neuron to encode the input\n",
    "    input_neuron = nengo.Ensemble(n_neurons=100, dimensions=1, radius=2)\n",
    "\n",
    "    # Connect the node to the encoding neuron\n",
    "    inp_conn = nengo.Connection(input_node, input_neuron)\n",
    "\n",
    "    ## Add probes to see outputs throughout the model\n",
    "    # This probe captures the non-spiking input value\n",
    "    input_probe_node = nengo.Probe(input_node)\n",
    "\n",
    "    # This probe displays the decoded neural representation of the input\n",
    "    input_probe_neuron = nengo.Probe(input_neuron, synapse=0.01)\n",
    "\n",
    "# Build the simulator to run the model containing just input encoding\n",
    "with nengo.Simulator(model) as sim:\n",
    "    # Run it for 1 second\n",
    "    sim.run(5)\n",
    "\n",
    "# Plot the input signals and decoded ensemble values\n",
    "plt.figure()\n",
    "plt.plot(sim.trange(), sim.data[input_probe_node], label=\"Input EKG data\")\n",
    "plt.plot(sim.trange(), sim.data[input_probe_neuron], label=\"Decoded Estimate of EKG\")\n",
    "plt.legend()\n",
    "plt.xlabel(\"time [s]\")\n",
    "plt.title(\"Decoded Spikes = Neural Representation of Input\")"
   ]
  },
  {
   "cell_type": "markdown",
   "metadata": {},
   "source": [
    "#### Discussion\n",
    "\n",
    "The key distinction here is that when we've had time-varying functions as inputs via Nengo nodes in the past, they've been functions that we've built _within_ the node! Go back and look at our tutorials that utilize `piecewise` and `whitenoise` and `lambda` for reference. An easy example can be found [here](https://www.nengo.ai/nengo/examples/basic/two-neurons.html).\n",
    "\n",
    "For our EKG data, we are taking (simulated) data that's never been seen by our model - collected (generated) entirely offline - and are now processing that with Nengo. That's why we need the `readData` class. Make sure that makes sense!\n",
    "\n",
    "What this means for you: if you plan to pull continuous time data offline for your final project, you'll likely need this function."
   ]
  },
  {
   "cell_type": "markdown",
   "metadata": {},
   "source": [
    "### Online Learning\n",
    "\n",
    "Normally, if you have a function you would like to compute across a connection, you would specify it with `function` in the Connection constructor. However, it is also possible to use error-driven learning to learn to compute a function online (i.e. while you're actively receiving inputs). This is relevant to _edge computing_ which we discussed quite a bit in our Neuroscience and Neural Nets lectures. Suppose you've trained a DNN to classify certain data, but now you get new data while in the field and want to update your network in real-time. This is NOT an easy task with current state of the art - in fact a lot of dollars are going in to trying to solve this problem. Our brains however have already solved it. These neurons are inspired by our brains. So let's learn in real time with these neurons.\n",
    "\n",
    "First, here's our model without learning - i.e. Nengo computes all of the weights for the connections in advance. In this case, we have two ensembles acting as a communication channel (we built a simple version of this in `neuron_transformations.ipynb`). In a comms channel, you want the output of the first ensemble fed into the second, and you want the second ensemble's output to match that of the original input.\n",
    "\n",
    "[Input] ---> (A) ---> (B) ---> [Output]\n",
    "\n",
    "To demonstrate online learning, we add in a function between the two ensembles (i.e. the output of the second ensemble is a function of the first - which is why we have weights, to compute that f(x)). NOTE: in a comms channel, our f(x) = x. BUT we want to mess that up so we have to relearn the weights to make that happen. SO, we add a weird function in between that we will train away by the end of this demo. \n",
    "\n",
    "Notice both ensembles are 2D - meaning we send two white noise signals into the two inputs of the first ensemble, and we get a white noise signal out of the two output dimensions. THEN, we compute a bizarre function where we just return two random numbers out of the second ensemble. To recap: we send two white noise signals into Ensemble A, connect to Ensemble B, which then outputs two random values from the network using pretrained Nengo decoders.\n",
    "\n"
   ]
  },
  {
   "cell_type": "code",
   "execution_count": null,
   "metadata": {},
   "outputs": [],
   "source": [
    "model = nengo.Network(label=\"Pretrained Comms Channel\")\n",
    "with model:\n",
    "    # input signal, passed from node to ensemble A\n",
    "    input = nengo.Node(WhiteSignal(60, high=5), size_out=2)\n",
    "    A = nengo.Ensemble(60, dimensions=2)\n",
    "    nengo.Connection(input, A)\n",
    "\n",
    "    # passed output of ensemble A to ensemble B \n",
    "    # train weights with a complicated function (send in a value, return something random)\n",
    "    B = nengo.Ensemble(60, dimensions=2)\n",
    "    conn = nengo.Connection(A, B, function=lambda x: np.random.random(2))\n",
    "    \n",
    "    inp_p = nengo.Probe(input)\n",
    "    pre_p = nengo.Probe(A, synapse=0.01)\n",
    "    post_p = nengo.Probe(B, synapse=0.01)\n",
    "\n",
    "with nengo.Simulator(model) as sim:\n",
    "    sim.run(10.0)\n",
    "\n",
    "plt.figure(figsize=(12, 8))\n",
    "plt.subplot(2, 1, 1)\n",
    "plt.plot(sim.trange(), sim.data[inp_p].T[0], c=\"k\", label=\"Input\")\n",
    "plt.plot(sim.trange(), sim.data[pre_p].T[0], c=\"b\", label=\"Pre\")\n",
    "plt.plot(sim.trange(), sim.data[post_p].T[0], c=\"r\", label=\"Post\")\n",
    "plt.ylabel(\"Dimension 1\")\n",
    "plt.legend(loc=\"best\")\n",
    "plt.subplot(2, 1, 2)\n",
    "plt.plot(sim.trange(), sim.data[inp_p].T[1], c=\"k\", label=\"Input\")\n",
    "plt.plot(sim.trange(), sim.data[pre_p].T[1], c=\"b\", label=\"Pre\")\n",
    "plt.plot(sim.trange(), sim.data[post_p].T[1], c=\"r\", label=\"Post\")\n",
    "plt.ylabel(\"Dimension 2\")\n",
    "plt.legend(loc=\"best\")"
   ]
  },
  {
   "cell_type": "markdown",
   "metadata": {},
   "source": [
    "#### Add in Learning\n",
    "\n",
    "Now, we will add an ensemble to compute our error. We know that with a proper comms channel, our output from the ensemble B should match that of ensemble A. The error is therefore the difference between the two and we will use an ensemble to compute that. The error neuron will subtract ensemble A output from ensemble B output using the `transform=-1` argument for the A connection(i.e. error $= B-A =$ how far off we are from where we want to be).\n",
    "\n",
    "We will then employ an error rule on our connection between A and B, which we called `conn` in the last segment of code. The learning rule we use is called the [prescribed error sensitivity (PES) learning rule](https://www.researchgate.net/publication/282366687_A_Solution_to_the_Dynamics_of_the_Prescribed_Error_Sensitivity_Learning_Rule). The PES learning rule is a biologically plausible supervised learning rule that is frequently used with the Neural Engineering Framework (NEF) -- this is Nengo's framework! PES modifies the connection weights between populations of neurons to minimize an external error signal (being the error ensemble we've created). [This page](https://www.nengo.ai/nengo/examples/learning/learn-communication-channel.html) describes it succinctly in the \"How does this work?\" section if you want the math behind how the decoders are updated. \n",
    "\n",
    "This means we compute an error and use that in our learning rule between ensembles A and B to push the weights toward a solution where $B-A=0$, i.e. $A=B$.\n",
    "\n"
   ]
  },
  {
   "cell_type": "code",
   "execution_count": 6,
   "metadata": {},
   "outputs": [],
   "source": [
    "with model:\n",
    "    error = nengo.Ensemble(60, dimensions=2)\n",
    "    error_probe = nengo.Probe(error, synapse=0.03)\n",
    "\n",
    "    # Error = actual - target = post - pre\n",
    "    nengo.Connection(B, error)\n",
    "    connA = nengo.Connection(A, error, transform=-1)\n",
    "\n",
    "    # Add the learning rule to the connection\n",
    "    conn.learning_rule_type = nengo.PES()\n",
    "\n",
    "    # Connect the error into the learning rule\n",
    "    nengo.Connection(error, conn.learning_rule)\n",
    "\n",
    "    # probe the decoders to see how those change over time to reduce error\n",
    "    weights_p = nengo.Probe(conn, \"weights\", synapse=0.01, sample_every=0.01)"
   ]
  },
  {
   "cell_type": "markdown",
   "metadata": {},
   "source": [
    "#### Run it, plot it."
   ]
  },
  {
   "cell_type": "code",
   "execution_count": null,
   "metadata": {},
   "outputs": [],
   "source": [
    "with nengo.Simulator(model) as sim:\n",
    "    sim.run(10.0)\n",
    "\n",
    "plt.figure(figsize=(12, 12))\n",
    "plt.subplot(4, 1, 1)\n",
    "plt.plot(sim.trange(), sim.data[inp_p].T[0], c=\"k\", label=\"Input\")\n",
    "plt.plot(sim.trange(), sim.data[pre_p].T[0], c=\"b\", label=\"Pre\")\n",
    "plt.plot(sim.trange(), sim.data[post_p].T[0], c=\"r\", label=\"Post\")\n",
    "plt.ylabel(\"Dimension 1\")\n",
    "plt.legend(loc=\"best\")\n",
    "plt.subplot(4, 1, 2)\n",
    "plt.plot(sim.trange(), sim.data[inp_p].T[1], c=\"k\", label=\"Input\")\n",
    "plt.plot(sim.trange(), sim.data[pre_p].T[1], c=\"b\", label=\"Pre\")\n",
    "plt.plot(sim.trange(), sim.data[post_p].T[1], c=\"r\", label=\"Post\")\n",
    "plt.ylabel(\"Dimension 2\")\n",
    "plt.legend(loc=\"best\")\n",
    "plt.subplot(4, 1, 3)\n",
    "plt.plot(sim.trange(), sim.data[error_probe], c=\"b\")\n",
    "plt.ylim(-1, 1)\n",
    "plt.legend((\"Error[0]\", \"Error[1]\"), loc=\"best\")\n",
    "plt.subplot(4, 1, 4)\n",
    "plt.plot(sim.trange(sample_every=0.01), sim.data[weights_p][..., 10])\n",
    "plt.ylabel(\"Decoding weight\")\n",
    "plt.legend((\"Decoder 10[0]\", \"Decoder 10[1]\"), loc=\"best\")"
   ]
  },
  {
   "cell_type": "markdown",
   "metadata": {},
   "source": [
    "#### Discussion\n",
    "\n",
    "We can see here that toward the end of our simulation, both dimensions start to look the same. We can see from the third plot that error is reduced as we go in each dimension. Once error is reduced to near zero, the weights should always work, regardless of input to the network (i.e. if we keep those decoders between those two ensembles, we can feed in any input and we should output the same signal). How? Decoders! You can see in the fourth plot how the decoders change and then converge to a value over time. That means that instead of computing that nasty random output function, the weights have adjusted to take the same output spikes and compute $f(x)=x$. If you're lost, please work back through the `neuron_transformations.ipynb`."
   ]
  },
  {
   "cell_type": "markdown",
   "metadata": {},
   "source": [
    "### Matrix Multiplication using Ensemble Arrays (On your own)\n",
    "\n",
    "This example demonstrates how to perform general matrix multiplication using Nengo. The matrix can change during the computation, which makes it distinct from doing static matrix multiplication with neural connection weights (as done in all neural networks).\n",
    "\n",
    "Let's compute $A \\cdot B$, which is equal to $(B \\cdot A)^T$ where\n",
    "\n",
    "$A = \\begin{bmatrix}\n",
    "\t\t.5 & -.5 \\\\\n",
    "\t\t-.2 & .3  \n",
    "\t\\end{bmatrix}$  and  $B = \t\\begin{bmatrix}\n",
    "\t\t\t\t\t\t\t\t\t.58 & -1 \\\\\n",
    "\t\t\t\t\t\t\t\t\t.7 & .1  \n",
    "\t\t\t\t\t\t\t\t\\end{bmatrix}$\n",
    "\n",
    "Big differences here:\n",
    "- We are using an _EnsembleArray_ (i.e. an array of ensembles of neurons) instead of an _Ensemble_ of neurons\n",
    "- We specifically _probe the outputs of an Ensemble Array_ since we need to probe each ensemble's output (not the array itself). This results in 4 outputs since we have an array of 4 ensembles of neurons\n",
    "\n"
   ]
  },
  {
   "cell_type": "code",
   "execution_count": 8,
   "metadata": {},
   "outputs": [],
   "source": [
    "Amat = np.array([[0.5, -0.5], [-0.2, 0.3]])\n",
    "Bmat = np.array([[0.58, -1.0], [0.7, 0.1]])\n",
    "\n",
    "model = nengo.Network(label=\"Matrix Multiplication\", seed=123)\n",
    "with model:\n",
    "    # Make 2 EnsembleArrays to encode the input\n",
    "    # Amat.size and Bmat.size = 4, therefore 4D neurons used\n",
    "    # Values should stay within the range (-radius, radius)\n",
    "    A = nengo.networks.EnsembleArray(n_neurons = 100, n_ensembles=Amat.size, radius=1) \n",
    "    B = nengo.networks.EnsembleArray(n_neurons = 100, n_ensembles=Bmat.size, radius=1)\n",
    "\n",
    "    # Create 2 nodes to send in matrix values\n",
    "    inputA = nengo.Node(Amat.ravel())  # ravel is equivalent to reshape(-1) i.e. flatten!\n",
    "    inputB = nengo.Node(Bmat.ravel())\n",
    "\n",
    "    # connect input nodes to neuron ensembles\n",
    "    nengo.Connection(inputA, A.input)\n",
    "    nengo.Connection(inputB, B.input)\n",
    "\n",
    "    # Probe to check we've connected correctly\n",
    "    #  Note: must probe the output of each ensemble because \n",
    "    #        we are using an array of ensembles!\n",
    "    #\n",
    "    # sample_every determines how many timesteps you plot\n",
    "    #  in this case, it's fewer times than the simulation would plot\n",
    "    # default simulation dt = .001\n",
    "    A_probe = nengo.Probe(A.output, sample_every=0.01, synapse=0.01) \n",
    "    B_probe = nengo.Probe(B.output, sample_every=0.01, synapse=0.01)"
   ]
  },
  {
   "cell_type": "markdown",
   "metadata": {},
   "source": [
    "**Run and Plot**"
   ]
  },
  {
   "cell_type": "code",
   "execution_count": null,
   "metadata": {},
   "outputs": [],
   "source": [
    "with nengo.Simulator(model) as sim:\n",
    "    sim.run(1)\n",
    "    \n",
    "plt.figure()\n",
    "plt.subplot(1, 2, 1)\n",
    "plt.title(\"A\")\n",
    "plt.plot(sim.trange(sample_every=0.01), sim.data[A_probe])\n",
    "plt.legend(['1','2','3','4'], loc=\"best\")\n",
    "\n",
    "plt.subplot(1, 2, 2)\n",
    "plt.title(\"B\")\n",
    "plt.plot(sim.trange(sample_every=0.01), sim.data[B_probe])\n",
    "plt.legend(['1','2','3','4'], loc=\"best\")"
   ]
  },
  {
   "cell_type": "markdown",
   "metadata": {},
   "source": [
    "Inputs look good, but now we need to actually perform each multiplication that occurs in matrix multiplication. \n",
    "\n",
    "First, we will use one of Nengo's reusable networks `product` instead of manually creating multiplication neurons as we did in `neuron_transformations.ipynb` (although we could definitely do it this way!). The `product` network computes the element-wise product of two equally sized vectors where `input_a` is the first vector and `input_b` is the second. Read more about different reusable networks [here](https://www.nengo.ai/nengo/networks.html#nengo.networks.Product).\n",
    "\n",
    "You'll notice we call an argument `transform`. It's way easier to use transform than a function when it comes to matrix multiplication!"
   ]
  },
  {
   "cell_type": "code",
   "execution_count": null,
   "metadata": {},
   "outputs": [],
   "source": [
    "with model:\n",
    "    # The C matrix is composed of populations that each contain\n",
    "    # one element of A and one element of B.\n",
    "    # These elements will be multiplied together in the next step.\n",
    "\n",
    "    # For two 2x2 matrices to be multiplied together, there will be \n",
    "    #  8 total multiplications that will occur (think through this!)\n",
    "    c_size = Amat.size * Bmat.shape[1] # 4*2 = 8\n",
    "    C = nengo.networks.Product(100, dimensions=c_size)\n",
    "\n",
    "# Determine the transformation matrices to get the correct pairwise\n",
    "#   products computed. \n",
    "transformA = np.zeros((c_size, Amat.size))\n",
    "transformB = np.zeros((c_size, Bmat.size))\n",
    "\n",
    "for i in range(Amat.shape[0]):\n",
    "    for j in range(Amat.shape[1]):\n",
    "        for k in range(Bmat.shape[1]):\n",
    "            c_index = j + k * Amat.shape[1] + i * Bmat.size\n",
    "            transformA[c_index][j + i * Amat.shape[1]] = 1\n",
    "            transformB[c_index][k + j * Bmat.shape[1]] = 1\n",
    "\n",
    "print(\"A->C\")\n",
    "print(transformA)\n",
    "print(\"B->C\")\n",
    "print(transformB)\n",
    "\n",
    "with model:\n",
    "    conn = nengo.Connection(A.output, C.input_a, transform=transformA)\n",
    "    nengo.Connection(B.output, C.input_b, transform=transformB)\n",
    "    C_probe = nengo.Probe(C.output, sample_every=0.01, synapse=0.01)"
   ]
  },
  {
   "cell_type": "markdown",
   "metadata": {},
   "source": [
    "We printed the weights. Recall, we have two 2x2 matrices. Each matrix was flattened into an array of 4 values (indices 0 to 3). If there is a `1` in the tranform matrix, that means the element is \"active\" because it is weighted 1 instead of 0. So, for the first multiplication that must be performed, we have $a_0$ multiplied by $b_0$.\n",
    "\n",
    "If you take a look at each transform matrix row by row, they line up to perform each multiplication required within two 2x2 matrices being multiplied. \n",
    "\n",
    "$$ \\vec{A} \\vec{B}  \n",
    "=\n",
    "\\begin{bmatrix} \n",
    "\ta_{11} & a_{12} \\\\\n",
    "\ta_{21} & a_{22}  \n",
    "\\end{bmatrix}\n",
    "\\begin{bmatrix} \n",
    "\tb_{11} & b_{12} \\\\\n",
    "\tb_{21} & b_{22}  \t\n",
    "\\end{bmatrix}\n",
    "=\n",
    "\\begin{bmatrix} \n",
    "\ta_{0} & a_{1} \\\\\n",
    "\ta_{2} & a_{3}  \n",
    "\\end{bmatrix}\n",
    "\\begin{bmatrix} \n",
    "\tb_{0} & b_{1} \\\\\n",
    "\tb_{2} & b_{3}  \t\n",
    "\\end{bmatrix}\n",
    "\\\\ \n",
    "=\n",
    "\\begin{bmatrix} \n",
    "\ta_{11}  b_{11} + a_{12}b_{21} & a_{11} b_{12}+a_{12}b_{22} \\\\\n",
    "\ta_{21}  b_{11} + a_{22}b_{21} & a_{21}  b_{12} + a_{22}b_{22} \t\n",
    "\\end{bmatrix} \n",
    "=\n",
    "\\begin{bmatrix} \n",
    "\ta_{0}  b_{0} + a_{1}b_{2} & a_{0} b_{1}+a_{1}b_{3} \\\\\n",
    "\ta_{2}  b_{0} + a_{3}b_{2} & a_{2}  b_{1} + a_{0}b_{3} \t\n",
    "\\end{bmatrix} $$\n",
    "\n",
    "Now, let's view the outputs of our 8-dimensional neuron ensemble C (created from a pre-built Nengo network `product`). This will output each of the individual multiplications. Note: no addition has occurred!"
   ]
  },
  {
   "cell_type": "code",
   "execution_count": null,
   "metadata": {},
   "outputs": [],
   "source": [
    "# Run it!\n",
    "with nengo.Simulator(model) as sim:\n",
    "    sim.run(1)\n",
    "\n",
    "# Plot it!\n",
    "plt.figure()\n",
    "plt.plot(sim.trange(sample_every=0.01), sim.data[C_probe])\n",
    "plt.title(\"C\")\n",
    "plt.legend(['1','2','3','4','5','6','7','8'], loc=\"best\")"
   ]
  },
  {
   "cell_type": "markdown",
   "metadata": {},
   "source": [
    "Now we have to add the appropriate elements to complete matrix multiplication. We use the same `transform` argument (i.e. decoders/weights) to choose which of the outputs from C should be added together. "
   ]
  },
  {
   "cell_type": "code",
   "execution_count": null,
   "metadata": {},
   "outputs": [],
   "source": [
    "with model:\n",
    "    # Now do the appropriate summing\n",
    "    D = nengo.networks.EnsembleArray(\n",
    "        100, n_ensembles=Amat.shape[0] * Bmat.shape[1], radius=1\n",
    "    ) # sanity check that this is the right size for any matrix multiplication!\n",
    "\n",
    "# The mapping for this transformation is much easier, since we want to\n",
    "# combine pairs from C within D.\n",
    "transformC = np.zeros((D.dimensions, c_size))\n",
    "for i in range(c_size):\n",
    "    transformC[i // Bmat.shape[0]][i] = 1\n",
    "print(\"C->D\")\n",
    "print(transformC)\n",
    "\n",
    "with model:\n",
    "    nengo.Connection(C.output, D.input, transform=transformC)\n",
    "    D_probe = nengo.Probe(D.output, sample_every=0.01, synapse=0.01)"
   ]
  },
  {
   "cell_type": "markdown",
   "metadata": {},
   "source": [
    "We have 8 outputs from C. We add two at a time to compute the four outputs of our two 2x2 matrices being multiplied together.\n",
    "\n",
    "Recall:  \n",
    "$$ \n",
    "\t\\vec{A} \\vec{B}  \n",
    "\t=\n",
    "\t\\begin{bmatrix} \n",
    "\t\ta_{11} & a_{12} \\\\\n",
    "\t\ta_{21} & a_{22}  \n",
    "\t\\end{bmatrix}\n",
    "\t\\begin{bmatrix} \n",
    "\t\tb_{11} & b_{12} \\\\\n",
    "\t\tb_{21} & b_{22}  \t\n",
    "\t\\end{bmatrix}\n",
    "\t=\n",
    "\t\\begin{bmatrix} \n",
    "\t\ta_{0} & a_{1} \\\\\n",
    "\t\ta_{2} & a_{3}  \n",
    "\t\\end{bmatrix}\n",
    "\t\\begin{bmatrix} \n",
    "\t\tb_{0} & b_{1} \\\\\n",
    "\t\tb_{2} & b_{3}  \t\n",
    "\t\\end{bmatrix}\n",
    "\t\\\\ \n",
    "\t=\n",
    "\t\\begin{bmatrix} \n",
    "\t\ta_{11}  b_{11} + a_{12}b_{21} & a_{11} b_{12}+a_{12}b_{22} \\\\\n",
    "\t\ta_{21}  b_{11} + a_{22}b_{21} & a_{21}  b_{12} + a_{22}b_{22} \t\n",
    "\t\\end{bmatrix} \n",
    "\t=\n",
    "\t\\begin{bmatrix} \n",
    "\t\ta_{0}  b_{0} + a_{1}b_{2} & a_{0} b_{1}+a_{1}b_{3} \\\\\n",
    "\t\ta_{2}  b_{0} + a_{3}b_{2} & a_{2}  b_{1} + a_{0}b_{3} \t\n",
    "\t\\end{bmatrix} \n",
    "$$\n",
    "\n",
    "Now, let's run it and see our final answer!"
   ]
  },
  {
   "cell_type": "code",
   "execution_count": null,
   "metadata": {},
   "outputs": [],
   "source": [
    "# Run it!\n",
    "with nengo.Simulator(model) as sim:\n",
    "    sim.run(1)\n",
    "\n",
    "# Plot it!\n",
    "plt.figure()\n",
    "plt.plot(sim.trange(sample_every=0.01), sim.data[D_probe])\n",
    "for d in np.dot(Amat, Bmat).flatten():\n",
    "    plt.axhline(d, color=\"k\")\n",
    "plt.title(\"D\")"
   ]
  },
  {
   "cell_type": "markdown",
   "metadata": {},
   "source": [
    "#### Discussion\n",
    "\n",
    "We could have written matrix multiplication manually using our own multiplication function from last time. That may have made it more intuitive, and we could have possibly found a faster way to do it! \n",
    "\n",
    "BUT, now you have experience using a pre-built Nengo network and a generalized form of matrix multiplication, which may come in handy for your final project."
   ]
  }
 ],
 "metadata": {
  "kernelspec": {
   "display_name": ".venv",
   "language": "python",
   "name": "python3"
  },
  "language_info": {
   "codemirror_mode": {
    "name": "ipython",
    "version": 3
   },
   "file_extension": ".py",
   "mimetype": "text/x-python",
   "name": "python",
   "nbconvert_exporter": "python",
   "pygments_lexer": "ipython3",
   "version": "3.10.11"
  }
 },
 "nbformat": 4,
 "nbformat_minor": 2
}
